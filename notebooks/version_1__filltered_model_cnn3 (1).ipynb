{
  "metadata": {
    "kernelspec": {
      "display_name": "Python 3",
      "language": "python",
      "name": "python3"
    },
    "language_info": {
      "name": "python",
      "version": "3.10.14",
      "mimetype": "text/x-python",
      "codemirror_mode": {
        "name": "ipython",
        "version": 3
      },
      "pygments_lexer": "ipython3",
      "nbconvert_exporter": "python",
      "file_extension": ".py"
    },
    "kaggle": {
      "accelerator": "none",
      "dataSources": [
        {
          "sourceId": 63056,
          "databundleVersionId": 9094797,
          "sourceType": "competition"
        }
      ],
      "dockerImageVersionId": 30762,
      "isInternetEnabled": true,
      "language": "python",
      "sourceType": "notebook",
      "isGpuEnabled": false
    },
    "colab": {
      "provenance": []
    }
  },
  "nbformat_minor": 5,
  "nbformat": 4,
  "cells": [
    {
      "cell_type": "code",
      "source": [
        "import pandas as pd\n",
        "import numpy as np\n",
        "import matplotlib.pyplot as plt\n",
        "import os.path\n",
        "from PIL import Image\n",
        "from imblearn.under_sampling import RandomUnderSampler\n",
        "import random"
      ],
      "metadata": {
        "execution": {
          "iopub.status.busy": "2024-08-26T20:26:31.620459Z",
          "iopub.execute_input": "2024-08-26T20:26:31.620933Z",
          "iopub.status.idle": "2024-08-26T20:26:31.626590Z",
          "shell.execute_reply.started": "2024-08-26T20:26:31.620883Z",
          "shell.execute_reply": "2024-08-26T20:26:31.625518Z"
        },
        "trusted": true,
        "ExecuteTime": {
          "end_time": "2024-08-26T21:25:06.640242Z",
          "start_time": "2024-08-26T21:25:03.678838Z"
        },
        "id": "e7646087de8af974"
      },
      "id": "e7646087de8af974",
      "outputs": [],
      "execution_count": null
    },
    {
      "cell_type": "markdown",
      "source": [],
      "metadata": {
        "id": "c8c6904179f2acc3"
      },
      "id": "c8c6904179f2acc3"
    },
    {
      "cell_type": "code",
      "source": [
        "from sklearn.model_selection import GroupShuffleSplit\n",
        "from sklearn.metrics import auc, roc_curve"
      ],
      "metadata": {
        "execution": {
          "iopub.status.busy": "2024-08-26T20:26:31.628763Z",
          "iopub.execute_input": "2024-08-26T20:26:31.629134Z",
          "iopub.status.idle": "2024-08-26T20:26:31.637661Z",
          "shell.execute_reply.started": "2024-08-26T20:26:31.629092Z",
          "shell.execute_reply": "2024-08-26T20:26:31.636763Z"
        },
        "trusted": true,
        "ExecuteTime": {
          "end_time": "2024-08-26T21:25:06.643087Z",
          "start_time": "2024-08-26T21:25:06.641345Z"
        },
        "id": "ea82de2e5d188339"
      },
      "id": "ea82de2e5d188339",
      "outputs": [],
      "execution_count": null
    },
    {
      "cell_type": "code",
      "source": [
        "import torch\n",
        "import torch.nn as nn\n",
        "from torch.utils.data import Dataset, DataLoader, Sampler\n",
        "from torch.optim import AdamW, Adam\n",
        "from torchvision.transforms import transforms, v2\n",
        "from torchvision.models import vgg16\n",
        "import torchvision.models as models"
      ],
      "metadata": {
        "execution": {
          "iopub.status.busy": "2024-08-26T20:26:31.639020Z",
          "iopub.execute_input": "2024-08-26T20:26:31.639417Z",
          "iopub.status.idle": "2024-08-26T20:26:31.648496Z",
          "shell.execute_reply.started": "2024-08-26T20:26:31.639373Z",
          "shell.execute_reply": "2024-08-26T20:26:31.647741Z"
        },
        "trusted": true,
        "ExecuteTime": {
          "end_time": "2024-08-26T21:25:08.407762Z",
          "start_time": "2024-08-26T21:25:06.643851Z"
        },
        "id": "c4916f72730df360"
      },
      "id": "c4916f72730df360",
      "outputs": [],
      "execution_count": null
    },
    {
      "cell_type": "markdown",
      "source": [
        "# settings"
      ],
      "metadata": {
        "id": "4d0303bfbaed9cf3"
      },
      "id": "4d0303bfbaed9cf3"
    },
    {
      "cell_type": "code",
      "source": [
        "device = (\"cuda\" if torch.cuda.is_available()\n",
        "          else \"mps\" if torch.backends.mps.is_available()\n",
        "          else \"cpu\")\n",
        "print(f\"device: {device}\")"
      ],
      "metadata": {
        "execution": {
          "iopub.status.busy": "2024-08-26T20:26:31.649573Z",
          "iopub.execute_input": "2024-08-26T20:26:31.650014Z",
          "iopub.status.idle": "2024-08-26T20:26:31.659544Z",
          "shell.execute_reply.started": "2024-08-26T20:26:31.649968Z",
          "shell.execute_reply": "2024-08-26T20:26:31.658577Z"
        },
        "trusted": true,
        "ExecuteTime": {
          "end_time": "2024-08-26T21:25:08.449664Z",
          "start_time": "2024-08-26T21:25:08.408369Z"
        },
        "colab": {
          "base_uri": "https://localhost:8080/"
        },
        "id": "6826ee201c1791d5",
        "outputId": "f43d849f-c505-4b1e-c536-b8daf42e8912"
      },
      "id": "6826ee201c1791d5",
      "outputs": [
        {
          "output_type": "stream",
          "name": "stdout",
          "text": [
            "device: cpu\n"
          ]
        }
      ],
      "execution_count": null
    },
    {
      "cell_type": "code",
      "source": [
        "torch.manual_seed(1729)\n",
        "device_gen = torch.Generator(device)\n",
        "torch.set_default_device(device)"
      ],
      "metadata": {
        "execution": {
          "iopub.status.busy": "2024-08-26T20:26:31.662113Z",
          "iopub.execute_input": "2024-08-26T20:26:31.662481Z",
          "iopub.status.idle": "2024-08-26T20:26:31.670962Z",
          "shell.execute_reply.started": "2024-08-26T20:26:31.662437Z",
          "shell.execute_reply": "2024-08-26T20:26:31.670056Z"
        },
        "trusted": true,
        "ExecuteTime": {
          "end_time": "2024-08-26T21:25:08.456888Z",
          "start_time": "2024-08-26T21:25:08.451622Z"
        },
        "id": "710c63dfefbfbd54"
      },
      "id": "710c63dfefbfbd54",
      "outputs": [],
      "execution_count": null
    },
    {
      "cell_type": "code",
      "source": [
        "IN_KAGGLE = \"KAGGLE_KERNEL_RUN_TYPE\" in os.environ\n",
        "IN_COLAB = \"COLAB_GPU\" in os.environ\n",
        "\n",
        "if IN_COLAB:\n",
        "    from google.colab import userdata\n",
        "    # only the first time\n",
        "    # os.environ[\"KAGGLE_KEY\"] = \"1af524e1d584e99f823eca9701877569\"\n",
        "    # os.environ[\"KAGGLE_USERNAME\"] = \"benziontabak\"\n",
        "\n",
        "    # ! kaggle competitions download isic-2024-challenge\n",
        "    # ! unzip isic-2024-challenge.zip\n",
        "    # !kaggle datasets download -d benziontabak/irrelevant-images\n",
        "    # !unzip irrelevant-images.zip\n",
        "    IMG_DIR = \"/content/train-image/image\"\n",
        "    CSV_PATH = \"/content/train-metadata.csv\"\n",
        "elif IN_KAGGLE:\n",
        "    IMG_DIR = \"/kaggle/input/isic-2024-challenge/train-image/image\"\n",
        "    CSV_PATH = \"/kaggle/input/isic-2024-challenge/train-metadata.csv\"\n",
        "else:\n",
        "    IMG_DIR = \"/Users/yuda/Desktop/data_bases/isic-2024-challenge/train-image/image\"\n",
        "    CSV_PATH = \"/Users/yuda/PycharmProjects/my_isic2024/isic-2024-challenge/train-metadata.csv\""
      ],
      "metadata": {
        "execution": {
          "iopub.status.busy": "2024-08-26T20:26:31.672197Z",
          "iopub.execute_input": "2024-08-26T20:26:31.672557Z",
          "iopub.status.idle": "2024-08-26T20:26:31.681769Z",
          "shell.execute_reply.started": "2024-08-26T20:26:31.672517Z",
          "shell.execute_reply": "2024-08-26T20:26:31.680853Z"
        },
        "trusted": true,
        "ExecuteTime": {
          "end_time": "2024-08-26T21:25:08.459648Z",
          "start_time": "2024-08-26T21:25:08.457571Z"
        },
        "id": "44ba331bbea0617c",
        "collapsed": true
      },
      "id": "44ba331bbea0617c",
      "outputs": [],
      "execution_count": null
    },
    {
      "cell_type": "code",
      "source": [
        "torch.manual_seed(1729)"
      ],
      "metadata": {
        "execution": {
          "iopub.status.busy": "2024-08-26T20:26:31.682872Z",
          "iopub.execute_input": "2024-08-26T20:26:31.683460Z",
          "iopub.status.idle": "2024-08-26T20:26:31.695157Z",
          "shell.execute_reply.started": "2024-08-26T20:26:31.683427Z",
          "shell.execute_reply": "2024-08-26T20:26:31.694114Z"
        },
        "trusted": true,
        "ExecuteTime": {
          "end_time": "2024-08-26T21:25:08.464269Z",
          "start_time": "2024-08-26T21:25:08.460367Z"
        },
        "id": "e3909ab642bad6d8",
        "colab": {
          "base_uri": "https://localhost:8080/"
        },
        "outputId": "f18cd3f3-73a6-49fb-a3eb-0484fc983509"
      },
      "id": "e3909ab642bad6d8",
      "outputs": [
        {
          "output_type": "execute_result",
          "data": {
            "text/plain": [
              "<torch._C.Generator at 0x7ce788a9eaf0>"
            ]
          },
          "metadata": {},
          "execution_count": 7
        }
      ],
      "execution_count": null
    },
    {
      "cell_type": "code",
      "source": [
        "def auc_80(y_pred, y):\n",
        "    fpr, tpr, thresholds = roc_curve(y, y_pred)\n",
        "    tpr_80 = [0.80 if i >= 0.80 else i for i in tpr]\n",
        "    return auc(fpr, tpr) - auc(fpr, tpr_80)"
      ],
      "metadata": {
        "execution": {
          "iopub.status.busy": "2024-08-26T20:26:31.696097Z",
          "iopub.execute_input": "2024-08-26T20:26:31.696458Z",
          "iopub.status.idle": "2024-08-26T20:26:31.702551Z",
          "shell.execute_reply.started": "2024-08-26T20:26:31.696417Z",
          "shell.execute_reply": "2024-08-26T20:26:31.701679Z"
        },
        "trusted": true,
        "ExecuteTime": {
          "end_time": "2024-08-26T21:25:08.466649Z",
          "start_time": "2024-08-26T21:25:08.464923Z"
        },
        "id": "51e78a033fbc3f61"
      },
      "id": "51e78a033fbc3f61",
      "outputs": [],
      "execution_count": null
    },
    {
      "cell_type": "markdown",
      "source": [
        "# data and constance"
      ],
      "metadata": {
        "id": "e1c70d6e511d1d14"
      },
      "id": "e1c70d6e511d1d14"
    },
    {
      "cell_type": "code",
      "source": [
        "BATCH_SIZE = 32\n",
        "NUM_EPOCHS = 10\n",
        "IMG_SIZE = (224, 224)\n",
        "NUM_CLASSES = 1\n",
        "LR = 1e-4\n",
        "RANDOM_STATE = 40\n",
        "CLASS_1_AMOUNT_PER_BATCH = BATCH_SIZE // 2"
      ],
      "metadata": {
        "execution": {
          "iopub.status.busy": "2024-08-26T20:26:31.703479Z",
          "iopub.execute_input": "2024-08-26T20:26:31.703830Z",
          "iopub.status.idle": "2024-08-26T20:26:31.715798Z",
          "shell.execute_reply.started": "2024-08-26T20:26:31.703786Z",
          "shell.execute_reply": "2024-08-26T20:26:31.714867Z"
        },
        "trusted": true,
        "ExecuteTime": {
          "end_time": "2024-08-26T21:25:08.468977Z",
          "start_time": "2024-08-26T21:25:08.467450Z"
        },
        "id": "237700c9f64b8abd"
      },
      "id": "237700c9f64b8abd",
      "outputs": [],
      "execution_count": null
    },
    {
      "cell_type": "code",
      "source": [
        "ISIC_df = pd.read_csv(CSV_PATH)\n",
        "ISIC_df = ISIC_df[[\"isic_id\", \"patient_id\", \"target\"]]\n",
        "ISIC_df[\"img_path\"] = ISIC_df[\"isic_id\"].apply(lambda id: f\"{os.path.join(IMG_DIR, id)}.jpg\")\n",
        "ISIC_df.drop([\"isic_id\"], axis=1, inplace=True)\n",
        "ISIC_df"
      ],
      "metadata": {
        "execution": {
          "iopub.status.busy": "2024-08-26T20:26:31.749909Z",
          "iopub.execute_input": "2024-08-26T20:26:31.750828Z",
          "iopub.status.idle": "2024-08-26T20:26:37.647103Z",
          "shell.execute_reply.started": "2024-08-26T20:26:31.750788Z",
          "shell.execute_reply": "2024-08-26T20:26:37.646114Z"
        },
        "trusted": true,
        "ExecuteTime": {
          "end_time": "2024-08-26T21:25:10.808724Z",
          "start_time": "2024-08-26T21:25:08.469654Z"
        },
        "id": "14dfe95d9c670025",
        "colab": {
          "base_uri": "https://localhost:8080/",
          "height": 458
        },
        "outputId": "a1d00147-88d7-4d8f-e610-79eb6399e8d8"
      },
      "id": "14dfe95d9c670025",
      "outputs": [
        {
          "output_type": "stream",
          "name": "stderr",
          "text": [
            "<ipython-input-10-3c456cc854ee>:1: DtypeWarning: Columns (51,52) have mixed types. Specify dtype option on import or set low_memory=False.\n",
            "  ISIC_df = pd.read_csv(CSV_PATH)\n"
          ]
        },
        {
          "output_type": "execute_result",
          "data": {
            "text/plain": [
              "        patient_id  target                                     img_path\n",
              "0       IP_1235828       0  /content/train-image/image/ISIC_0015670.jpg\n",
              "1       IP_8170065       0  /content/train-image/image/ISIC_0015845.jpg\n",
              "2       IP_6724798       0  /content/train-image/image/ISIC_0015864.jpg\n",
              "3       IP_4111386       0  /content/train-image/image/ISIC_0015902.jpg\n",
              "4       IP_8313778       0  /content/train-image/image/ISIC_0024200.jpg\n",
              "...            ...     ...                                          ...\n",
              "401054  IP_1140263       0  /content/train-image/image/ISIC_9999937.jpg\n",
              "401055  IP_5678181       0  /content/train-image/image/ISIC_9999951.jpg\n",
              "401056  IP_0076153       0  /content/train-image/image/ISIC_9999960.jpg\n",
              "401057  IP_5231513       0  /content/train-image/image/ISIC_9999964.jpg\n",
              "401058  IP_6426047       0  /content/train-image/image/ISIC_9999967.jpg\n",
              "\n",
              "[401059 rows x 3 columns]"
            ],
            "text/html": [
              "\n",
              "  <div id=\"df-22080c36-1bfe-468a-8d36-411e0dfce18a\" class=\"colab-df-container\">\n",
              "    <div>\n",
              "<style scoped>\n",
              "    .dataframe tbody tr th:only-of-type {\n",
              "        vertical-align: middle;\n",
              "    }\n",
              "\n",
              "    .dataframe tbody tr th {\n",
              "        vertical-align: top;\n",
              "    }\n",
              "\n",
              "    .dataframe thead th {\n",
              "        text-align: right;\n",
              "    }\n",
              "</style>\n",
              "<table border=\"1\" class=\"dataframe\">\n",
              "  <thead>\n",
              "    <tr style=\"text-align: right;\">\n",
              "      <th></th>\n",
              "      <th>patient_id</th>\n",
              "      <th>target</th>\n",
              "      <th>img_path</th>\n",
              "    </tr>\n",
              "  </thead>\n",
              "  <tbody>\n",
              "    <tr>\n",
              "      <th>0</th>\n",
              "      <td>IP_1235828</td>\n",
              "      <td>0</td>\n",
              "      <td>/content/train-image/image/ISIC_0015670.jpg</td>\n",
              "    </tr>\n",
              "    <tr>\n",
              "      <th>1</th>\n",
              "      <td>IP_8170065</td>\n",
              "      <td>0</td>\n",
              "      <td>/content/train-image/image/ISIC_0015845.jpg</td>\n",
              "    </tr>\n",
              "    <tr>\n",
              "      <th>2</th>\n",
              "      <td>IP_6724798</td>\n",
              "      <td>0</td>\n",
              "      <td>/content/train-image/image/ISIC_0015864.jpg</td>\n",
              "    </tr>\n",
              "    <tr>\n",
              "      <th>3</th>\n",
              "      <td>IP_4111386</td>\n",
              "      <td>0</td>\n",
              "      <td>/content/train-image/image/ISIC_0015902.jpg</td>\n",
              "    </tr>\n",
              "    <tr>\n",
              "      <th>4</th>\n",
              "      <td>IP_8313778</td>\n",
              "      <td>0</td>\n",
              "      <td>/content/train-image/image/ISIC_0024200.jpg</td>\n",
              "    </tr>\n",
              "    <tr>\n",
              "      <th>...</th>\n",
              "      <td>...</td>\n",
              "      <td>...</td>\n",
              "      <td>...</td>\n",
              "    </tr>\n",
              "    <tr>\n",
              "      <th>401054</th>\n",
              "      <td>IP_1140263</td>\n",
              "      <td>0</td>\n",
              "      <td>/content/train-image/image/ISIC_9999937.jpg</td>\n",
              "    </tr>\n",
              "    <tr>\n",
              "      <th>401055</th>\n",
              "      <td>IP_5678181</td>\n",
              "      <td>0</td>\n",
              "      <td>/content/train-image/image/ISIC_9999951.jpg</td>\n",
              "    </tr>\n",
              "    <tr>\n",
              "      <th>401056</th>\n",
              "      <td>IP_0076153</td>\n",
              "      <td>0</td>\n",
              "      <td>/content/train-image/image/ISIC_9999960.jpg</td>\n",
              "    </tr>\n",
              "    <tr>\n",
              "      <th>401057</th>\n",
              "      <td>IP_5231513</td>\n",
              "      <td>0</td>\n",
              "      <td>/content/train-image/image/ISIC_9999964.jpg</td>\n",
              "    </tr>\n",
              "    <tr>\n",
              "      <th>401058</th>\n",
              "      <td>IP_6426047</td>\n",
              "      <td>0</td>\n",
              "      <td>/content/train-image/image/ISIC_9999967.jpg</td>\n",
              "    </tr>\n",
              "  </tbody>\n",
              "</table>\n",
              "<p>401059 rows × 3 columns</p>\n",
              "</div>\n",
              "    <div class=\"colab-df-buttons\">\n",
              "      \n",
              "  <div class=\"colab-df-container\">\n",
              "    <button class=\"colab-df-convert\" onclick=\"convertToInteractive('df-22080c36-1bfe-468a-8d36-411e0dfce18a')\"\n",
              "            title=\"Convert this dataframe to an interactive table.\"\n",
              "            style=\"display:none;\">\n",
              "      \n",
              "  <svg xmlns=\"http://www.w3.org/2000/svg\" height=\"24px\" viewBox=\"0 -960 960 960\">\n",
              "    <path d=\"M120-120v-720h720v720H120Zm60-500h600v-160H180v160Zm220 220h160v-160H400v160Zm0 220h160v-160H400v160ZM180-400h160v-160H180v160Zm440 0h160v-160H620v160ZM180-180h160v-160H180v160Zm440 0h160v-160H620v160Z\"/>\n",
              "  </svg>\n",
              "    </button>\n",
              "    \n",
              "  <style>\n",
              "    .colab-df-container {\n",
              "      display:flex;\n",
              "      gap: 12px;\n",
              "    }\n",
              "\n",
              "    .colab-df-convert {\n",
              "      background-color: #E8F0FE;\n",
              "      border: none;\n",
              "      border-radius: 50%;\n",
              "      cursor: pointer;\n",
              "      display: none;\n",
              "      fill: #1967D2;\n",
              "      height: 32px;\n",
              "      padding: 0 0 0 0;\n",
              "      width: 32px;\n",
              "    }\n",
              "\n",
              "    .colab-df-convert:hover {\n",
              "      background-color: #E2EBFA;\n",
              "      box-shadow: 0px 1px 2px rgba(60, 64, 67, 0.3), 0px 1px 3px 1px rgba(60, 64, 67, 0.15);\n",
              "      fill: #174EA6;\n",
              "    }\n",
              "\n",
              "    .colab-df-buttons div {\n",
              "      margin-bottom: 4px;\n",
              "    }\n",
              "\n",
              "    [theme=dark] .colab-df-convert {\n",
              "      background-color: #3B4455;\n",
              "      fill: #D2E3FC;\n",
              "    }\n",
              "\n",
              "    [theme=dark] .colab-df-convert:hover {\n",
              "      background-color: #434B5C;\n",
              "      box-shadow: 0px 1px 3px 1px rgba(0, 0, 0, 0.15);\n",
              "      filter: drop-shadow(0px 1px 2px rgba(0, 0, 0, 0.3));\n",
              "      fill: #FFFFFF;\n",
              "    }\n",
              "  </style>\n",
              "\n",
              "    <script>\n",
              "      const buttonEl =\n",
              "        document.querySelector('#df-22080c36-1bfe-468a-8d36-411e0dfce18a button.colab-df-convert');\n",
              "      buttonEl.style.display =\n",
              "        google.colab.kernel.accessAllowed ? 'block' : 'none';\n",
              "\n",
              "      async function convertToInteractive(key) {\n",
              "        const element = document.querySelector('#df-22080c36-1bfe-468a-8d36-411e0dfce18a');\n",
              "        const dataTable =\n",
              "          await google.colab.kernel.invokeFunction('convertToInteractive',\n",
              "                                                    [key], {});\n",
              "        if (!dataTable) return;\n",
              "\n",
              "        const docLinkHtml = 'Like what you see? Visit the ' +\n",
              "          '<a target=\"_blank\" href=https://colab.research.google.com/notebooks/data_table.ipynb>data table notebook</a>'\n",
              "          + ' to learn more about interactive tables.';\n",
              "        element.innerHTML = '';\n",
              "        dataTable['output_type'] = 'display_data';\n",
              "        await google.colab.output.renderOutput(dataTable, element);\n",
              "        const docLink = document.createElement('div');\n",
              "        docLink.innerHTML = docLinkHtml;\n",
              "        element.appendChild(docLink);\n",
              "      }\n",
              "    </script>\n",
              "  </div>\n",
              "  \n",
              "    </div>\n",
              "  </div>\n",
              "  "
            ]
          },
          "metadata": {},
          "execution_count": 10
        }
      ],
      "execution_count": null
    },
    {
      "cell_type": "code",
      "source": [
        "transform = v2.Compose([\n",
        "    v2.Resize(IMG_SIZE),\n",
        "    v2.ToDtype(torch.float32, scale=True),\n",
        "    v2.ToTensor(),\n",
        "    v2.Normalize(mean = [0.6298, 0.5126, 0.4097], std = [0.1386, 0.1308, 0.1202]),\n",
        "])\n",
        "\n",
        "def augmentation_transform():\n",
        "    transform = [v2.RandomRotation(90, expand=False),\n",
        "                v2.RandomPerspective(distortion_scale=0.5, p=0.5, interpolation=3),\n",
        "                transforms.ColorJitter(brightness=0.2, contrast=0.2, saturation=0.2, hue=0.1),\n",
        "                v2.CenterCrop(150),]\n",
        "    return random.choice(transform)"
      ],
      "metadata": {
        "execution": {
          "iopub.status.busy": "2024-08-26T20:26:37.648858Z",
          "iopub.execute_input": "2024-08-26T20:26:37.649200Z",
          "iopub.status.idle": "2024-08-26T20:26:37.656747Z",
          "shell.execute_reply.started": "2024-08-26T20:26:37.649164Z",
          "shell.execute_reply": "2024-08-26T20:26:37.655768Z"
        },
        "trusted": true,
        "ExecuteTime": {
          "end_time": "2024-08-26T21:25:10.812520Z",
          "start_time": "2024-08-26T21:25:10.809473Z"
        },
        "id": "f9a2754fb795c170",
        "colab": {
          "base_uri": "https://localhost:8080/"
        },
        "outputId": "b5a7d490-2a48-4c6b-982e-3f557d0e8677"
      },
      "id": "f9a2754fb795c170",
      "outputs": [
        {
          "output_type": "stream",
          "name": "stderr",
          "text": [
            "/usr/local/lib/python3.10/dist-packages/torchvision/transforms/v2/_deprecated.py:42: UserWarning: The transform `ToTensor()` is deprecated and will be removed in a future release. Instead, please use `v2.Compose([v2.ToImage(), v2.ToDtype(torch.float32, scale=True)])`.Output is equivalent up to float precision.\n",
            "  warnings.warn(\n"
          ]
        }
      ],
      "execution_count": null
    },
    {
      "cell_type": "markdown",
      "source": [
        "# split according patients"
      ],
      "metadata": {
        "id": "c157419b73ab712a"
      },
      "id": "c157419b73ab712a"
    },
    {
      "cell_type": "code",
      "source": [
        "# הורד את הקבצים מ-Kaggle\n",
        "\n",
        "def initialize_dataset_10k_0(\n",
        "    CSV_PATH,\n",
        "    CSV_100_PATH=\"top_100_img_names.csv\",\n",
        "    CSV_10000_PATH=\"top_10000_img_names.csv\"\n",
        "):\n",
        "    # reading datasets\n",
        "    ISIC_df = pd.read_csv(CSV_PATH, low_memory=False)\n",
        "    df_100 = pd.read_csv(CSV_100_PATH)\n",
        "    df_10000 = pd.read_csv(CSV_10000_PATH)\n",
        "\n",
        "    # preprocessing\n",
        "    required_columns = [\"isic_id\", \"patient_id\", \"target\"]\n",
        "    for col in required_columns:\n",
        "        if col not in ISIC_df.columns:\n",
        "            raise ValueError(f\"Column '{col}' not found in the CSV file.\")\n",
        "\n",
        "    ISIC_df = ISIC_df[required_columns].copy()\n",
        "    ISIC_df[\"img_path\"] = ISIC_df[\"isic_id\"].apply(lambda id: f\"{os.path.join(IMG_DIR, id)}.jpg\")\n",
        "\n",
        "    # remove rows where isic_id is in df_100\n",
        "    ISIC_df = ISIC_df[~ISIC_df[\"isic_id\"].isin(df_100[\"img_name\"])]\n",
        "\n",
        "    # remove rows where target == 0 and isic_id is in df_10000\n",
        "    ISIC_df = ISIC_df[~((ISIC_df[\"target\"] == 0) & (ISIC_df[\"isic_id\"].isin(df_10000[\"img_name\"])))]\n",
        "\n",
        "    # Reset index to ensure it's continuous\n",
        "    ISIC_df = ISIC_df.reset_index(drop=True)\n",
        "\n",
        "    # splitting into target == 1 and target == 0\n",
        "    class_1_df = ISIC_df[ISIC_df[\"target\"] == 1].reset_index(drop=True)\n",
        "    class_0_df = ISIC_df[ISIC_df[\"target\"] == 0].reset_index(drop=True)\n",
        "\n",
        "    def split_according_patients(df, train_size, drop_patients=True):\n",
        "        X, y, groups = df, df[\"target\"], df[\"patient_id\"]\n",
        "\n",
        "        gss = GroupShuffleSplit(n_splits=1, train_size=train_size, random_state=RANDOM_STATE)\n",
        "        gss_gen = gss.split(X, y, groups)\n",
        "        train_index, val_index = next(gss_gen)\n",
        "        if drop_patients:\n",
        "            train_df = df.loc[train_index, [\"img_path\", \"target\"]].reset_index(drop=True)\n",
        "            val_df = df.loc[val_index, [\"img_path\", \"target\"]].reset_index(drop=True)\n",
        "        else:\n",
        "            train_df = df.loc[train_index, [\"img_path\", \"patient_id\", \"target\"]].reset_index(drop=True)\n",
        "            val_df = df.loc[val_index, [\"img_path\", \"patient_id\", \"target\"]].reset_index(drop=True)\n",
        "\n",
        "        print(f\"len train_df: {len(train_df)}\\nlen val_df: {len(val_df)}\")\n",
        "        return train_df, val_df\n",
        "\n",
        "    train_class_1_df, val_class_1_df = split_according_patients(class_1_df, 0.75, False)\n",
        "\n",
        "    def take_common_pationts(class_0_df, class_1_df):\n",
        "        '''\n",
        "        takes the patients that in class_0_df and class_1_df both.\n",
        "        :param class_0_df: target == 0\n",
        "        :param class_1_df: target == 1\n",
        "        :return: only the patients that in both df\n",
        "        '''\n",
        "        class_1_patients = class_1_df[\"patient_id\"].unique()\n",
        "        class_0_df = class_0_df[class_0_df[\"patient_id\"].isin(class_1_patients)]\n",
        "        return pd.concat((class_0_df, class_1_df), axis=0).reset_index(drop=True)\n",
        "\n",
        "    train_df = take_common_pationts(class_0_df, train_class_1_df)\n",
        "    val_df = take_common_pationts(class_0_df, val_class_1_df)\n",
        "\n",
        "    return train_df, val_df\n",
        "\n",
        "\n",
        "\n",
        "def get_dataloader(df):\n",
        "    dataset = ISICDataset(train_df, transform, augmentation_transform)\n",
        "    dataloader = DataLoader(dataset, batch_size=BATCH_SIZE, shuffle=True)\n",
        "    return dataloader\n",
        "\n",
        "\n",
        "\n",
        "def get_dataloader_with_undersampling(train_df, val_df, train_class_0_size=10000, val_class_0_size=10000):\n",
        "    train_class_1_size, val_class_1_size = len(train_df[train_df['target'] == 1]), len(val_df[val_df['target'] == 1])\n",
        "    train_df.sample(frac=1)\n",
        "    # under sampling\n",
        "    undersample = RandomUnderSampler(sampling_strategy={0: train_class_0_size, 1: train_class_1_size})\n",
        "    train_df, _ = undersample.fit_resample(train_df, train_df[\"target\"])\n",
        "    train_df = train_df.reset_index(drop=True)\n",
        "\n",
        "    undersample = RandomUnderSampler(sampling_strategy={0: val_class_0_size, 1: val_class_1_size})\n",
        "    val_df, _ = undersample.fit_resample(val_df, val_df[\"target\"])\n",
        "    val_df = val_df.reset_index(drop=True).iloc[::-1].reset_index(drop=True) # to make al the class_1 in the beginning\n",
        "\n",
        "    class_1_train_df = train_df[train_df[\"target\"] == 1]\n",
        "    class_0_train_df = train_df[train_df[\"target\"] == 0]\n",
        "\n",
        "\n",
        "    train_ds = ISICDataset(train_df, transform=transform, augmentation_transform=augmentation_transform)\n",
        "    val_ds = ISICDataset(val_df, transform=transform)\n",
        "\n",
        "    sampler = BalancedBatchSampler(class_0_train_df, class_1_train_df, batch_size=BATCH_SIZE, class_1_amount_per_batch=CLASS_1_AMOUNT_PER_BATCH)\n",
        "\n",
        "    train_dl = DataLoader(train_ds, batch_size=BATCH_SIZE, sampler=sampler, generator=device_gen)\n",
        "    val_dl = DataLoader(val_ds, batch_size=BATCH_SIZE, shuffle=False, generator=device_gen)\n",
        "\n",
        "    return train_dl, val_dl"
      ],
      "metadata": {
        "execution": {
          "iopub.status.busy": "2024-08-26T20:26:37.658233Z",
          "iopub.execute_input": "2024-08-26T20:26:37.658811Z",
          "iopub.status.idle": "2024-08-26T20:26:37.679193Z",
          "shell.execute_reply.started": "2024-08-26T20:26:37.658765Z",
          "shell.execute_reply": "2024-08-26T20:26:37.678365Z"
        },
        "trusted": true,
        "ExecuteTime": {
          "end_time": "2024-08-26T21:25:10.820014Z",
          "start_time": "2024-08-26T21:25:10.813311Z"
        },
        "id": "cfccc140bfee9e1e"
      },
      "id": "cfccc140bfee9e1e",
      "outputs": [],
      "execution_count": null
    },
    {
      "cell_type": "markdown",
      "source": [
        "# ISIC_Dataset class"
      ],
      "metadata": {
        "id": "3be3f552b219d7f4"
      },
      "id": "3be3f552b219d7f4"
    },
    {
      "cell_type": "code",
      "source": [
        "class ISICDataset(Dataset):\n",
        "\n",
        "    def __init__(self, df, transform=None, augmentation_transform=None):\n",
        "        self.df = df\n",
        "        self.transform = transform\n",
        "        self.augmentation_transform = augmentation_transform\n",
        "\n",
        "    def __len__(self):\n",
        "        return len(self.df)\n",
        "\n",
        "    def __getitem__(self, idx):\n",
        "        img = Image.open(self.df.loc[idx, \"img_path\"]).convert(\"RGB\")\n",
        "        img = v2.Resize(IMG_SIZE)(img)\n",
        "        img = v2.ToDtype(torch.float32, scale=True)(img)\n",
        "        label = self.df.loc[idx, \"target\"]\n",
        "        if self.augmentation_transform:\n",
        "            img = self.augmentation_transform()(img) if random.random() > 0.2 else img\n",
        "        img = self.transform(img)\n",
        "        # if random.random() > 0.98:\n",
        "        #     plt.imshow(img.permute(1, 2, 0))\n",
        "        #     plt.show()\n",
        "        return img, label\n",
        "\n"
      ],
      "metadata": {
        "execution": {
          "iopub.status.busy": "2024-08-26T20:26:37.680249Z",
          "iopub.execute_input": "2024-08-26T20:26:37.680589Z",
          "iopub.status.idle": "2024-08-26T20:26:37.693447Z",
          "shell.execute_reply.started": "2024-08-26T20:26:37.680557Z",
          "shell.execute_reply": "2024-08-26T20:26:37.692619Z"
        },
        "trusted": true,
        "ExecuteTime": {
          "end_time": "2024-08-26T21:25:10.823424Z",
          "start_time": "2024-08-26T21:25:10.820725Z"
        },
        "id": "6c78f5c1786124dd"
      },
      "id": "6c78f5c1786124dd",
      "outputs": [],
      "execution_count": null
    },
    {
      "cell_type": "code",
      "source": [
        "class BalancedBatchSampler(Sampler):\n",
        "\n",
        "    def __init__(self, class_0_df, class_1_df, batch_size, class_1_amount_per_batch=10):\n",
        "        self.class_0_df = class_0_df\n",
        "        self.class_1_df = class_1_df\n",
        "\n",
        "        self.batch_size = batch_size\n",
        "        self.class_1_amount_per_batch = class_1_amount_per_batch\n",
        "        self.num_batches = (len(self.class_0_df) + len(self.class_1_df)) // batch_size\n",
        "\n",
        "    def __iter__(self):\n",
        "        class_0_iter = iter(self.class_0_df.index)\n",
        "        class_1_iter = iter(self.class_1_df.index)\n",
        "\n",
        "        for _ in range(self.num_batches):\n",
        "            batch = []\n",
        "            try:\n",
        "                for _ in range(self.class_1_amount_per_batch):\n",
        "                    batch.append(next(class_1_iter))\n",
        "            except:\n",
        "                class_1_iter = iter(self.class_1_df.index)\n",
        "                batch = []\n",
        "                for _ in range(self.class_1_amount_per_batch):\n",
        "                    batch.append(next(class_1_iter))\n",
        "            try:\n",
        "                for _ in range(self.batch_size - self.class_1_amount_per_batch):\n",
        "                    batch.append((next(class_0_iter)))\n",
        "            except:\n",
        "                class_0_iter = iter(self.class_0_df.index)\n",
        "                for _ in range(self.batch_size - self.class_1_amount_per_batch):\n",
        "                    batch.append(next(class_0_iter))\n",
        "            random.shuffle(batch)\n",
        "            for idx in batch:\n",
        "                yield idx\n",
        "\n",
        "    def __len__(self):\n",
        "        return self.num_batches\n"
      ],
      "metadata": {
        "execution": {
          "iopub.status.busy": "2024-08-26T20:26:37.695760Z",
          "iopub.execute_input": "2024-08-26T20:26:37.696051Z",
          "iopub.status.idle": "2024-08-26T20:26:37.708764Z",
          "shell.execute_reply.started": "2024-08-26T20:26:37.696020Z",
          "shell.execute_reply": "2024-08-26T20:26:37.708002Z"
        },
        "trusted": true,
        "ExecuteTime": {
          "end_time": "2024-08-26T21:25:10.829075Z",
          "start_time": "2024-08-26T21:25:10.825729Z"
        },
        "id": "9768ee9b38740db3"
      },
      "id": "9768ee9b38740db3",
      "outputs": [],
      "execution_count": null
    },
    {
      "cell_type": "markdown",
      "source": [
        "# model"
      ],
      "metadata": {
        "id": "529705da4dca85bd"
      },
      "id": "529705da4dca85bd"
    },
    {
      "cell_type": "code",
      "source": [
        "def load_model(model_name=\"mobilenet_v3_small\", num_classes=2):\n",
        "\n",
        "    if model_name == \"mobilenet_v3_small\":\n",
        "        model = models.mobilenet_v3_small(weights=models.MobileNet_V3_Small_Weights.DEFAULT)\n",
        "        model.classifier[3] = nn.Linear(model.classifier[3].in_features, num_classes)\n",
        "\n",
        "    elif model_name == \"efficientnet_v2_m\":\n",
        "        model = models.efficientnet_v2_m(weights=models.EfficientNet_V2_M_Weights.DEFAULT)\n",
        "        model.classifier[1] = nn.Linear(model.classifier[1].in_features, num_classes)\n",
        "\n",
        "    elif model_name == \"efficientnet_b0\":\n",
        "        model = models.efficientnet_b0(weights=models.EfficientNet_B0_Weights.DEFAULT)\n",
        "        model.classifier[1] = nn.Linear(model.classifier[1].in_features, num_classes)\n",
        "\n",
        "    elif model_name == \"vgg16\":\n",
        "        model = models.vgg16(weights=models.VGG16_Weights.DEFAULT)\n",
        "        model.classifier[6] = nn.Linear(model.classifier[6].in_features, num_classes)\n",
        "\n",
        "    elif model_name == \"resnet50\":\n",
        "        model = models.resnet50(weights=models.ResNet50_Weights.DEFAULT)\n",
        "        model.fc = nn.Linear(model.fc.in_features, num_classes)\n",
        "\n",
        "    elif model_name == \"resnet18\":\n",
        "        model = models.resnet18(weights=models.ResNet18_Weights.DEFAULT)\n",
        "        model.fc = nn.Linear(model.fc.in_features, num_classes)\n",
        "\n",
        "    elif model_name == \"vit_b_16\":\n",
        "        model = models.vit_b_16(weights=models.ViT_B_16_Weights.DEFAULT)\n",
        "        in_features = model.heads.head.in_features\n",
        "        model.heads.head = nn.Linear(in_features, num_classes)\n",
        "    else:\n",
        "        raise ValueError(f\"Model {model_name} is not supported yet\")\n",
        "\n",
        "#     print(model)\n",
        "    model = model.to(device)\n",
        "    optimizer = AdamW(model.parameters(), lr=LR)\n",
        "    criterion = nn.CrossEntropyLoss() if num_classes > 1 else nn.BCELoss()\n",
        "\n",
        "    return model, optimizer, criterion\n"
      ],
      "metadata": {
        "execution": {
          "iopub.status.busy": "2024-08-26T20:26:37.709711Z",
          "iopub.execute_input": "2024-08-26T20:26:37.710029Z",
          "iopub.status.idle": "2024-08-26T20:26:37.722943Z",
          "shell.execute_reply.started": "2024-08-26T20:26:37.709996Z",
          "shell.execute_reply": "2024-08-26T20:26:37.722212Z"
        },
        "trusted": true,
        "ExecuteTime": {
          "end_time": "2024-08-26T21:25:10.833379Z",
          "start_time": "2024-08-26T21:25:10.829887Z"
        },
        "id": "ccba580879c42adc"
      },
      "id": "ccba580879c42adc",
      "outputs": [],
      "execution_count": null
    },
    {
      "cell_type": "code",
      "source": [
        "model, optimizer, criterion = load_model(num_classes=NUM_CLASSES)"
      ],
      "metadata": {
        "execution": {
          "iopub.status.busy": "2024-08-26T20:26:37.723949Z",
          "iopub.execute_input": "2024-08-26T20:26:37.724254Z",
          "iopub.status.idle": "2024-08-26T20:26:37.824412Z",
          "shell.execute_reply.started": "2024-08-26T20:26:37.724223Z",
          "shell.execute_reply": "2024-08-26T20:26:37.823643Z"
        },
        "trusted": true,
        "ExecuteTime": {
          "end_time": "2024-08-26T21:25:20.666604Z",
          "start_time": "2024-08-26T21:25:10.834218Z"
        },
        "id": "5fe80c1073873266"
      },
      "id": "5fe80c1073873266",
      "outputs": [],
      "execution_count": null
    },
    {
      "cell_type": "markdown",
      "source": [
        "# training func"
      ],
      "metadata": {
        "id": "192c1018356be02a"
      },
      "id": "192c1018356be02a"
    },
    {
      "cell_type": "code",
      "source": [
        "def train(dataloader, model, optimizer, criterion):\n",
        "    model.train()\n",
        "    total_loss = 0\n",
        "    sum_batches = 0\n",
        "    for batch, (imgs, labels) in enumerate(dataloader):\n",
        "        sum_batches += 1\n",
        "        imgs, labels = imgs.to(device), labels.to(device)\n",
        "        if NUM_CLASSES == 1:\n",
        "            labels = labels.unsqueeze(1).float()\n",
        "            pred_labels = model(imgs)\n",
        "            pred_labels = torch.sigmoid(pred_labels)\n",
        "        elif NUM_CLASSES == 2:\n",
        "            pred_labels = model(imgs)\n",
        "        else:\n",
        "            raise Exception(f\"define NUM_CLASSES\")\n",
        "        loss = criterion(pred_labels, labels)\n",
        "\n",
        "        loss.backward()\n",
        "        optimizer.step()\n",
        "        optimizer.zero_grad()\n",
        "\n",
        "        total_loss += loss.item()\n",
        "        if batch % 10 == 0:\n",
        "            print(f\"{batch + 1} from {len(dataloader) * BATCH_SIZE}, loss: {loss}, auc: -\")\n",
        "    return total_loss / sum_batches\n"
      ],
      "metadata": {
        "execution": {
          "iopub.status.busy": "2024-08-26T20:26:37.825957Z",
          "iopub.execute_input": "2024-08-26T20:26:37.826268Z",
          "iopub.status.idle": "2024-08-26T20:26:37.834469Z",
          "shell.execute_reply.started": "2024-08-26T20:26:37.826234Z",
          "shell.execute_reply": "2024-08-26T20:26:37.833470Z"
        },
        "trusted": true,
        "ExecuteTime": {
          "end_time": "2024-08-26T21:25:20.670209Z",
          "start_time": "2024-08-26T21:25:20.667396Z"
        },
        "id": "2d958b2eb5749d20"
      },
      "id": "2d958b2eb5749d20",
      "outputs": [],
      "execution_count": null
    },
    {
      "cell_type": "code",
      "source": [
        "def test(dataloader, model, criterion):\n",
        "    model.eval()\n",
        "    pred_arr = [0, 1] # initialize for cases where only class_0 or only class_1\n",
        "    labels_arr = [1, 0]\n",
        "    total_loss = 0\n",
        "\n",
        "    with torch.no_grad():\n",
        "        for batch, (imgs, labels) in enumerate(dataloader):\n",
        "            imgs, labels = imgs.to(device), labels.to(device)\n",
        "            if NUM_CLASSES == 1:\n",
        "                labels = labels.unsqueeze(1).float()\n",
        "\n",
        "                pred_labels = model(imgs)\n",
        "                pred_labels = torch.sigmoid(pred_labels)\n",
        "                loss = criterion(pred_labels, labels)\n",
        "\n",
        "                total_loss += loss.item()\n",
        "                pred_arr = np.concatenate((pred_arr, pred_labels.cpu().flatten().detach().numpy()), axis=None)\n",
        "                labels_arr = np.concatenate((labels_arr, labels.cpu().flatten().detach().numpy()), axis=None)\n",
        "            elif NUM_CLASSES == 2:\n",
        "                # labels = labels.unsqueeze(1).float()\n",
        "                pred_labels = model(imgs)\n",
        "                # pred_labels = torch.sigmoid(pred_labels)\n",
        "                loss = criterion(pred_labels, labels)\n",
        "\n",
        "                total_loss += loss.item()\n",
        "\n",
        "                probabilities = nn.functional.softmax(pred_labels, dim=1)\n",
        "                # _, predicted_classes = torch.max(probabilities, dim=1)\n",
        "\n",
        "                pred_arr = pred_arr + probabilities[:, 1].cpu().flatten().detach().numpy().tolist()\n",
        "                labels_arr = labels_arr + labels.detach().flatten().cpu().numpy().tolist()\n",
        "            else:\n",
        "                raise Exception(f\"define NUM_CLASSES\")\n",
        "\n",
        "            if batch % 5 == 0:\n",
        "                print(f\"{batch + 1} from {len(dataloader)}, loss: {loss}, auc: {auc_80(pred_arr, labels_arr)}\")\n",
        "    return total_loss / len(dataloader), auc_80(pred_arr, labels_arr)"
      ],
      "metadata": {
        "execution": {
          "iopub.status.busy": "2024-08-26T20:26:37.835599Z",
          "iopub.execute_input": "2024-08-26T20:26:37.835943Z",
          "iopub.status.idle": "2024-08-26T20:26:37.849039Z",
          "shell.execute_reply.started": "2024-08-26T20:26:37.835911Z",
          "shell.execute_reply": "2024-08-26T20:26:37.848200Z"
        },
        "trusted": true,
        "ExecuteTime": {
          "end_time": "2024-08-26T21:25:20.674278Z",
          "start_time": "2024-08-26T21:25:20.670894Z"
        },
        "id": "507e17d1e98eab3e"
      },
      "id": "507e17d1e98eab3e",
      "outputs": [],
      "execution_count": null
    },
    {
      "cell_type": "markdown",
      "source": [
        "## initialize the data"
      ],
      "metadata": {
        "id": "ce719341aed6f0c9"
      },
      "id": "ce719341aed6f0c9"
    },
    {
      "cell_type": "code",
      "source": [
        "train_df, val_df = initialize_dataset_10k_0(CSV_PATH)"
      ],
      "metadata": {
        "execution": {
          "iopub.status.busy": "2024-08-26T20:26:37.850174Z",
          "iopub.execute_input": "2024-08-26T20:26:37.850628Z",
          "iopub.status.idle": "2024-08-26T20:26:43.930149Z",
          "shell.execute_reply.started": "2024-08-26T20:26:37.850585Z",
          "shell.execute_reply": "2024-08-26T20:26:43.929129Z"
        },
        "trusted": true,
        "ExecuteTime": {
          "end_time": "2024-08-26T21:25:23.248483Z",
          "start_time": "2024-08-26T21:25:20.675059Z"
        },
        "id": "6e2a7f7a34f6c5fb",
        "colab": {
          "base_uri": "https://localhost:8080/"
        },
        "outputId": "5e006a0f-5143-4726-e644-d4e5b1010501"
      },
      "id": "6e2a7f7a34f6c5fb",
      "outputs": [
        {
          "output_type": "stream",
          "name": "stdout",
          "text": [
            "len train_df: 306\n",
            "len val_df: 84\n"
          ]
        }
      ],
      "execution_count": null
    },
    {
      "cell_type": "markdown",
      "source": [
        "# start runing"
      ],
      "metadata": {
        "id": "13b7cc90a58e2470"
      },
      "id": "13b7cc90a58e2470"
    },
    {
      "cell_type": "code",
      "source": [
        "train_loss_arr = []\n",
        "test_loss_arr = []\n",
        "test_auc_arr = []"
      ],
      "metadata": {
        "execution": {
          "iopub.status.busy": "2024-08-26T20:26:43.931536Z",
          "iopub.execute_input": "2024-08-26T20:26:43.931933Z",
          "iopub.status.idle": "2024-08-26T20:26:43.936808Z",
          "shell.execute_reply.started": "2024-08-26T20:26:43.931878Z",
          "shell.execute_reply": "2024-08-26T20:26:43.935740Z"
        },
        "trusted": true,
        "ExecuteTime": {
          "end_time": "2024-08-26T21:25:23.251152Z",
          "start_time": "2024-08-26T21:25:23.249351Z"
        },
        "id": "8ac83199f38e53be"
      },
      "id": "8ac83199f38e53be",
      "outputs": [],
      "execution_count": null
    },
    {
      "cell_type": "code",
      "source": [
        "gap = \"------------------------------\"\n",
        "\n",
        "for epoch in range(NUM_EPOCHS):\n",
        "    train_dataloader, val_dataloader = get_dataloader_with_undersampling(train_df, val_df, 2000, 2000)\n",
        "\n",
        "\n",
        "    print(f\"{gap}\\nepoch: {epoch + 1}\\n{gap}\")\n",
        "\n",
        "    print(\"train:\")\n",
        "    train_loss_arr.append(train(train_dataloader, model, optimizer, criterion))\n",
        "    print(\"test:\")\n",
        "    loss, auc_ = test(val_dataloader, model, criterion)\n",
        "\n",
        "    test_loss_arr.append(loss)\n",
        "    test_auc_arr.append(auc_)\n",
        "    print(f\"train_loss_arr: {train_loss_arr[-1]} ; test_loss_arr: {test_loss_arr[-1]} ; test_auc_arr: {test_auc_arr[-1]} ;\")\n",
        "    # torch.save(model.state_dict(), f\"model_{epoch + 1}.pth\")\n",
        "    # print(f\"Saved PyTorch Model State to model_{epoch + 1}.pth\")\n",
        "print(\"done!\")"
      ],
      "metadata": {
        "execution": {
          "iopub.status.busy": "2024-08-26T20:26:43.938221Z",
          "iopub.execute_input": "2024-08-26T20:26:43.938718Z",
          "iopub.status.idle": "2024-08-26T20:30:31.561107Z",
          "shell.execute_reply.started": "2024-08-26T20:26:43.938669Z",
          "shell.execute_reply": "2024-08-26T20:30:31.560017Z"
        },
        "trusted": true,
        "ExecuteTime": {
          "end_time": "2024-08-26T21:25:32.186706Z",
          "start_time": "2024-08-26T21:25:23.252008Z"
        },
        "id": "98e8fe43dcc2fd62",
        "colab": {
          "base_uri": "https://localhost:8080/"
        },
        "outputId": "132db219-9e8f-42b2-bd37-97bf465a4278"
      },
      "id": "98e8fe43dcc2fd62",
      "outputs": [
        {
          "output_type": "stream",
          "name": "stdout",
          "text": [
            "------------------------------\n",
            "epoch: 1\n",
            "------------------------------\n",
            "train:\n",
            "1 from 96, loss: 0.7255840301513672, auc: -\n",
            "11 from 96, loss: 0.6491976380348206, auc: -\n",
            "21 from 96, loss: 0.5862005949020386, auc: -\n",
            "31 from 96, loss: 0.5360938906669617, auc: -\n",
            "41 from 96, loss: 0.592779815196991, auc: -\n",
            "51 from 96, loss: 0.5658556222915649, auc: -\n",
            "61 from 96, loss: 0.3842774033546448, auc: -\n",
            "71 from 96, loss: 0.3484400510787964, auc: -\n",
            "test:\n",
            "1 from 66, loss: 0.38440024852752686, auc: 0.0\n",
            "6 from 66, loss: 0.4389142692089081, auc: 0.10858067997841336\n",
            "11 from 66, loss: 0.4816491901874542, auc: 0.10841898097528957\n",
            "16 from 66, loss: 0.43786925077438354, auc: 0.10867955573837917\n",
            "21 from 66, loss: 0.377311110496521, auc: 0.11189453710176767\n",
            "26 from 66, loss: 0.4737020432949066, auc: 0.10954213461085371\n",
            "31 from 66, loss: 0.41043347120285034, auc: 0.11077460687245189\n",
            "36 from 66, loss: 0.42627453804016113, auc: 0.11138502173554177\n",
            "41 from 66, loss: 0.5437033176422119, auc: 0.11137701622553009\n",
            "46 from 66, loss: 0.49699902534484863, auc: 0.11120145682463045\n",
            "51 from 66, loss: 0.45445045828819275, auc: 0.11118368586944138\n",
            "56 from 66, loss: 0.5194994807243347, auc: 0.11169242419027292\n",
            "61 from 66, loss: 0.41774511337280273, auc: 0.11169231737638863\n",
            "66 from 66, loss: 0.3742247223854065, auc: 0.11191463091983411\n",
            "train_loss_arr: 0.5610714852809906 ; test_loss_arr: 0.48312986438924616 ; test_auc_arr: 0.11191463091983411 ;\n",
            "------------------------------\n",
            "epoch: 2\n",
            "------------------------------\n",
            "train:\n",
            "1 from 96, loss: 0.42629021406173706, auc: -\n",
            "11 from 96, loss: 0.4185407757759094, auc: -\n",
            "21 from 96, loss: 0.3196249306201935, auc: -\n",
            "31 from 96, loss: 0.34153980016708374, auc: -\n",
            "41 from 96, loss: 0.39094018936157227, auc: -\n",
            "51 from 96, loss: 0.39794743061065674, auc: -\n",
            "61 from 96, loss: 0.37819385528564453, auc: -\n",
            "71 from 96, loss: 0.40801340341567993, auc: -\n",
            "test:\n",
            "1 from 66, loss: 0.30331552028656006, auc: 0.0\n",
            "6 from 66, loss: 0.35232099890708923, auc: 0.1282245008094982\n",
            "11 from 66, loss: 0.39765408635139465, auc: 0.1316859829433631\n",
            "16 from 66, loss: 0.44290077686309814, auc: 0.13297682709447411\n",
            "21 from 66, loss: 0.3605574071407318, auc: 0.13078997303505435\n",
            "26 from 66, loss: 0.27453315258026123, auc: 0.13225477106730543\n",
            "31 from 66, loss: 0.3316924571990967, auc: 0.13278974956319145\n",
            "36 from 66, loss: 0.4183567762374878, auc: 0.1325923072690255\n",
            "41 from 66, loss: 0.3698817491531372, auc: 0.13272387881108505\n",
            "46 from 66, loss: 0.3857060968875885, auc: 0.13294371744378086\n",
            "51 from 66, loss: 0.23987989127635956, auc: 0.13404473474347778\n",
            "56 from 66, loss: 0.3618857264518738, auc: 0.13416170447113906\n",
            "61 from 66, loss: 0.3342568278312683, auc: 0.1343027098479841\n",
            "66 from 66, loss: 0.14949169754981995, auc: 0.13445042184789957\n",
            "train_loss_arr: 0.4155649431049824 ; test_loss_arr: 0.3501132202870918 ; test_auc_arr: 0.13445042184789957 ;\n",
            "------------------------------\n",
            "epoch: 3\n",
            "------------------------------\n",
            "train:\n",
            "1 from 96, loss: 0.24830283224582672, auc: -\n",
            "11 from 96, loss: 0.5207928419113159, auc: -\n",
            "21 from 96, loss: 0.46816909313201904, auc: -\n",
            "31 from 96, loss: 0.2718171775341034, auc: -\n",
            "41 from 96, loss: 0.32205086946487427, auc: -\n",
            "51 from 96, loss: 0.3345175087451935, auc: -\n",
            "61 from 96, loss: 0.1920984536409378, auc: -\n",
            "71 from 96, loss: 0.14715127646923065, auc: -\n",
            "test:\n",
            "1 from 66, loss: 0.5789666175842285, auc: 0.0\n",
            "6 from 66, loss: 0.37989524006843567, auc: 0.12595790609821889\n",
            "11 from 66, loss: 0.14961948990821838, auc: 0.1341351410452657\n",
            "16 from 66, loss: 0.15061567723751068, auc: 0.13187988482106117\n",
            "21 from 66, loss: 0.12507954239845276, auc: 0.13258763607310486\n",
            "26 from 66, loss: 0.09967600554227829, auc: 0.1331657896803582\n",
            "31 from 66, loss: 0.18891453742980957, auc: 0.1324403028538148\n",
            "36 from 66, loss: 0.22096963226795197, auc: 0.13233918450448445\n",
            "41 from 66, loss: 0.20075732469558716, auc: 0.13235054803044088\n",
            "46 from 66, loss: 0.3977857232093811, auc: 0.1322576546817431\n",
            "51 from 66, loss: 0.48844584822654724, auc: 0.1320016709072268\n",
            "56 from 66, loss: 0.2926456332206726, auc: 0.1320070216500877\n",
            "61 from 66, loss: 0.36687424778938293, auc: 0.13204292953136298\n",
            "66 from 66, loss: 0.047513749450445175, auc: 0.13218096833935977\n",
            "train_loss_arr: 0.32879986469116473 ; test_loss_arr: 0.23702255958183246 ; test_auc_arr: 0.13218096833935977 ;\n",
            "------------------------------\n",
            "epoch: 4\n",
            "------------------------------\n",
            "train:\n",
            "1 from 96, loss: 0.24585194885730743, auc: -\n",
            "11 from 96, loss: 0.38158783316612244, auc: -\n",
            "21 from 96, loss: 0.37114888429641724, auc: -\n",
            "31 from 96, loss: 0.5744209885597229, auc: -\n",
            "41 from 96, loss: 0.29163429141044617, auc: -\n",
            "51 from 96, loss: 0.20772384107112885, auc: -\n",
            "61 from 96, loss: 0.22628791630268097, auc: -\n",
            "71 from 96, loss: 0.26297688484191895, auc: -\n",
            "test:\n",
            "1 from 66, loss: 0.6150053143501282, auc: 0.0\n",
            "6 from 66, loss: 0.27471908926963806, auc: 0.13200215866162968\n",
            "11 from 66, loss: 0.27668389678001404, auc: 0.1382462278591734\n",
            "16 from 66, loss: 0.11486463248729706, auc: 0.14046345811051686\n",
            "21 from 66, loss: 0.21261078119277954, auc: 0.13628283231798644\n",
            "26 from 66, loss: 0.02460033819079399, auc: 0.1372496662216287\n",
            "31 from 66, loss: 0.299270898103714, auc: 0.13592182747686532\n",
            "36 from 66, loss: 0.09941980987787247, auc: 0.13572882848181378\n",
            "41 from 66, loss: 0.1342853605747223, auc: 0.135940267075097\n",
            "46 from 66, loss: 0.37061113119125366, auc: 0.13490026680218514\n",
            "51 from 66, loss: 0.21403060853481293, auc: 0.13525993999924046\n",
            "56 from 66, loss: 0.23313875496387482, auc: 0.13522183595497872\n",
            "61 from 66, loss: 0.1316147744655609, auc: 0.13478110345261696\n",
            "66 from 66, loss: 0.26977965235710144, auc: 0.13544992209777473\n",
            "train_loss_arr: 0.27340066826177967 ; test_loss_arr: 0.22146992994980377 ; test_auc_arr: 0.13544992209777473 ;\n",
            "------------------------------\n",
            "epoch: 5\n",
            "------------------------------\n",
            "train:\n",
            "1 from 96, loss: 0.486287921667099, auc: -\n",
            "11 from 96, loss: 0.33897510170936584, auc: -\n",
            "21 from 96, loss: 0.25647395849227905, auc: -\n",
            "31 from 96, loss: 0.3751846253871918, auc: -\n",
            "41 from 96, loss: 0.3289599120616913, auc: -\n",
            "51 from 96, loss: 0.22279618680477142, auc: -\n",
            "61 from 96, loss: 0.2055692970752716, auc: -\n",
            "71 from 96, loss: 0.2992905080318451, auc: -\n",
            "test:\n",
            "1 from 66, loss: 0.37781426310539246, auc: 0.0\n",
            "6 from 66, loss: 0.11914011836051941, auc: 0.13167835941716133\n",
            "11 from 66, loss: 0.1179983913898468, auc: 0.13623441941832493\n",
            "16 from 66, loss: 0.18818575143814087, auc: 0.1367612779377484\n",
            "21 from 66, loss: 0.07102417945861816, auc: 0.1351243383601317\n",
            "26 from 66, loss: 0.1894654780626297, auc: 0.1345794392523364\n",
            "31 from 66, loss: 0.09507185965776443, auc: 0.13458875299294626\n",
            "36 from 66, loss: 0.13231909275054932, auc: 0.13361580366477732\n",
            "41 from 66, loss: 0.14162063598632812, auc: 0.13390130665773214\n",
            "46 from 66, loss: 0.12846516072750092, auc: 0.13393469698894667\n",
            "51 from 66, loss: 0.19209393858909607, auc: 0.134386511221661\n",
            "56 from 66, loss: 0.1758054792881012, auc: 0.13385880976147035\n",
            "61 from 66, loss: 0.44127556681632996, auc: 0.13327038680640801\n",
            "66 from 66, loss: 0.49553194642066956, auc: 0.13389775700385098\n",
            "train_loss_arr: 0.26623134097705287 ; test_loss_arr: 0.18738960339264435 ; test_auc_arr: 0.13389775700385098 ;\n",
            "------------------------------\n",
            "epoch: 6\n",
            "------------------------------\n",
            "train:\n",
            "1 from 96, loss: 0.3585048317909241, auc: -\n",
            "11 from 96, loss: 0.2320968508720398, auc: -\n",
            "21 from 96, loss: 0.26246747374534607, auc: -\n",
            "31 from 96, loss: 0.22836995124816895, auc: -\n",
            "41 from 96, loss: 0.17136886715888977, auc: -\n",
            "51 from 96, loss: 0.17074351012706757, auc: -\n",
            "61 from 96, loss: 0.242974191904068, auc: -\n",
            "71 from 96, loss: 0.07050195336341858, auc: -\n",
            "test:\n",
            "1 from 66, loss: 0.48767638206481934, auc: 0.0\n",
            "6 from 66, loss: 0.0538531132042408, auc: 0.13901780895844573\n",
            "11 from 66, loss: 0.3524046540260315, auc: 0.14226984474087023\n",
            "16 from 66, loss: 0.0997287854552269, auc: 0.14128616481557654\n",
            "21 from 66, loss: 0.3914022445678711, auc: 0.13931888544891657\n",
            "26 from 66, loss: 0.06551383435726166, auc: 0.1405795963245111\n",
            "31 from 66, loss: 0.27358579635620117, auc: 0.1388597683297741\n",
            "36 from 66, loss: 0.2957455515861511, auc: 0.139063445771199\n",
            "41 from 66, loss: 0.17284639179706573, auc: 0.13855358253960648\n",
            "46 from 66, loss: 0.2579110860824585, auc: 0.13877101596578145\n",
            "51 from 66, loss: 0.12781141698360443, auc: 0.13843466372992064\n",
            "56 from 66, loss: 0.09645967185497284, auc: 0.1386913571748185\n",
            "61 from 66, loss: 0.3362452983856201, auc: 0.13884115443930378\n",
            "66 from 66, loss: 0.1239544227719307, auc: 0.1384013875415232\n",
            "train_loss_arr: 0.2371717109862301 ; test_loss_arr: 0.21545717306435108 ; test_auc_arr: 0.1384013875415232 ;\n",
            "------------------------------\n",
            "epoch: 7\n",
            "------------------------------\n",
            "train:\n",
            "1 from 96, loss: 0.22624126076698303, auc: -\n",
            "11 from 96, loss: 0.16830827295780182, auc: -\n",
            "21 from 96, loss: 0.25285711884498596, auc: -\n",
            "31 from 96, loss: 0.18937040865421295, auc: -\n",
            "41 from 96, loss: 0.15099835395812988, auc: -\n",
            "51 from 96, loss: 0.07656463235616684, auc: -\n",
            "61 from 96, loss: 0.1664804071187973, auc: -\n",
            "71 from 96, loss: 0.2512730062007904, auc: -\n",
            "test:\n",
            "1 from 66, loss: 0.225835382938385, auc: 0.0\n",
            "6 from 66, loss: 0.1947828084230423, auc: 0.1349163518618457\n",
            "11 from 66, loss: 0.10159207880496979, auc: 0.13654056418106253\n",
            "16 from 66, loss: 0.3129359483718872, auc: 0.1340189222542164\n",
            "21 from 66, loss: 0.18335066735744476, auc: 0.13380605213222796\n",
            "26 from 66, loss: 0.32266300916671753, auc: 0.13318149689782455\n",
            "31 from 66, loss: 0.2192019820213318, auc: 0.13319096615543902\n",
            "36 from 66, loss: 0.07924318313598633, auc: 0.1341660705442138\n",
            "41 from 66, loss: 0.07664426416158676, auc: 0.1338534437371367\n",
            "46 from 66, loss: 0.2899966835975647, auc: 0.13357049083132178\n",
            "51 from 66, loss: 0.12867558002471924, auc: 0.1333080165571715\n",
            "56 from 66, loss: 0.38903141021728516, auc: 0.1328262141603277\n",
            "61 from 66, loss: 0.40042629837989807, auc: 0.13264721618984665\n",
            "66 from 66, loss: 0.3211778700351715, auc: 0.13312755387012376\n",
            "train_loss_arr: 0.22846824820670816 ; test_loss_arr: 0.1991553081368858 ; test_auc_arr: 0.13312755387012376 ;\n",
            "------------------------------\n",
            "epoch: 8\n",
            "------------------------------\n",
            "train:\n",
            "1 from 96, loss: 0.24051228165626526, auc: -\n",
            "11 from 96, loss: 0.2186194807291031, auc: -\n",
            "21 from 96, loss: 0.07009461522102356, auc: -\n",
            "31 from 96, loss: 0.2004765421152115, auc: -\n",
            "41 from 96, loss: 0.19345901906490326, auc: -\n",
            "51 from 96, loss: 0.11076490581035614, auc: -\n",
            "61 from 96, loss: 0.44315671920776367, auc: -\n",
            "71 from 96, loss: 0.0906364768743515, auc: -\n",
            "test:\n",
            "1 from 66, loss: 1.142142653465271, auc: 0.0\n",
            "6 from 66, loss: 0.08828854560852051, auc: 0.13081489476524555\n",
            "11 from 66, loss: 0.07515710592269897, auc: 0.13181718784167928\n",
            "16 from 66, loss: 0.233008474111557, auc: 0.13262032085561481\n",
            "21 from 66, loss: 0.06271176785230637, auc: 0.13186857085788461\n",
            "26 from 66, loss: 0.09235916286706924, auc: 0.1318935050655774\n",
            "31 from 66, loss: 0.025074411183595657, auc: 0.1315084449621433\n",
            "36 from 66, loss: 0.10177736729383469, auc: 0.13182193363781414\n",
            "41 from 66, loss: 0.06836715340614319, auc: 0.1315751687167951\n",
            "46 from 66, loss: 0.17692387104034424, auc: 0.13161394147291727\n",
            "51 from 66, loss: 0.037319209426641464, auc: 0.13145482854213353\n",
            "56 from 66, loss: 0.19042083621025085, auc: 0.1311121054624308\n",
            "61 from 66, loss: 0.1824464648962021, auc: 0.13098542787901668\n",
            "66 from 66, loss: 0.0009974739514291286, auc: 0.13057000911309047\n",
            "train_loss_arr: 0.18952305407987702 ; test_loss_arr: 0.1599222267766229 ; test_auc_arr: 0.13057000911309047 ;\n",
            "------------------------------\n",
            "epoch: 9\n",
            "------------------------------\n",
            "train:\n",
            "1 from 96, loss: 0.13513055443763733, auc: -\n",
            "11 from 96, loss: 0.19911617040634155, auc: -\n",
            "21 from 96, loss: 0.3015631139278412, auc: -\n",
            "31 from 96, loss: 0.25459983944892883, auc: -\n",
            "41 from 96, loss: 0.15287289023399353, auc: -\n",
            "51 from 96, loss: 0.09934373944997787, auc: -\n",
            "61 from 96, loss: 0.058027420192956924, auc: -\n",
            "71 from 96, loss: 0.21469585597515106, auc: -\n",
            "test:\n",
            "1 from 66, loss: 0.6678563952445984, auc: 0.0\n",
            "6 from 66, loss: 0.04009935259819031, auc: 0.14689692390717746\n",
            "11 from 66, loss: 0.14006032049655914, auc: 0.14161382024928915\n",
            "16 from 66, loss: 0.5335990786552429, auc: 0.13980529274646913\n",
            "21 from 66, loss: 0.08667419105768204, auc: 0.1400379506641367\n",
            "26 from 66, loss: 0.13654334843158722, auc: 0.13982564988612256\n",
            "31 from 66, loss: 0.07103476673364639, auc: 0.14021872775512834\n",
            "36 from 66, loss: 0.14652763307094574, auc: 0.1401419688548945\n",
            "41 from 66, loss: 0.2896183133125305, auc: 0.1402575025128031\n",
            "46 from 66, loss: 0.10263887047767639, auc: 0.13992292381315385\n",
            "51 from 66, loss: 0.03942708298563957, auc: 0.1396194888542892\n",
            "56 from 66, loss: 0.06265395879745483, auc: 0.13927649468213255\n",
            "61 from 66, loss: 0.11214272677898407, auc: 0.13959651276240825\n",
            "66 from 66, loss: 1.1986054182052612, auc: 0.1393597318987565\n",
            "train_loss_arr: 0.19507328366550306 ; test_loss_arr: 0.17242253615492673 ; test_auc_arr: 0.1393597318987565 ;\n",
            "------------------------------\n",
            "epoch: 10\n",
            "------------------------------\n",
            "train:\n",
            "1 from 96, loss: 0.10511340945959091, auc: -\n",
            "11 from 96, loss: 0.24173647165298462, auc: -\n",
            "21 from 96, loss: 0.03736492246389389, auc: -\n",
            "31 from 96, loss: 0.13975933194160461, auc: -\n",
            "41 from 96, loss: 0.12635666131973267, auc: -\n",
            "51 from 96, loss: 0.3048119843006134, auc: -\n",
            "61 from 96, loss: 0.06246635690331459, auc: -\n",
            "71 from 96, loss: 0.19806347787380219, auc: -\n",
            "test:\n",
            "1 from 66, loss: 0.7863425016403198, auc: 0.0\n",
            "6 from 66, loss: 0.28135862946510315, auc: 0.12304371289800309\n",
            "11 from 66, loss: 0.3555697202682495, auc: 0.1277498359938769\n",
            "16 from 66, loss: 0.02405606023967266, auc: 0.12891814068284668\n",
            "21 from 66, loss: 0.025794152170419693, auc: 0.12933186857085777\n",
            "26 from 66, loss: 0.02922227792441845, auc: 0.13010288227440503\n",
            "31 from 66, loss: 0.04208904132246971, auc: 0.13083543648482487\n",
            "36 from 66, loss: 0.06560015678405762, auc: 0.1308204479172399\n",
            "41 from 66, loss: 0.08991563320159912, auc: 0.1314794428756042\n",
            "46 from 66, loss: 0.08270761370658875, auc: 0.13008088764663517\n",
            "51 from 66, loss: 0.11138654500246048, auc: 0.1303459537462499\n",
            "56 from 66, loss: 0.039164818823337555, auc: 0.1310776856090593\n",
            "61 from 66, loss: 0.020653292536735535, auc: 0.13094136531016898\n",
            "66 from 66, loss: 0.0033214574214071035, auc: 0.13028779727783157\n",
            "train_loss_arr: 0.17511996135322583 ; test_loss_arr: 0.13062620087823068 ; test_auc_arr: 0.13028779727783157 ;\n",
            "done!\n"
          ]
        }
      ],
      "execution_count": null
    },
    {
      "cell_type": "code",
      "source": [
        "# torch.save(model.state_dict(), \"model_.pth\")\n",
        "# print(\"Saved PyTorch Model State to model.pth\")"
      ],
      "metadata": {
        "execution": {
          "iopub.status.busy": "2024-08-26T20:30:31.562687Z",
          "iopub.execute_input": "2024-08-26T20:30:31.563331Z",
          "iopub.status.idle": "2024-08-26T20:30:31.567115Z",
          "shell.execute_reply.started": "2024-08-26T20:30:31.563267Z",
          "shell.execute_reply": "2024-08-26T20:30:31.566297Z"
        },
        "trusted": true,
        "id": "67fc75e04c274738"
      },
      "id": "67fc75e04c274738",
      "outputs": [],
      "execution_count": null
    },
    {
      "cell_type": "code",
      "source": [
        "print(f\"train_loss_arr: {train_loss_arr} ;\\n test_loss_arr: {test_loss_arr} ;\\n test_auc_arr: {test_auc_arr} ;\")"
      ],
      "metadata": {
        "execution": {
          "iopub.status.busy": "2024-08-26T20:30:31.570135Z",
          "iopub.execute_input": "2024-08-26T20:30:31.570515Z",
          "iopub.status.idle": "2024-08-26T20:30:31.586055Z",
          "shell.execute_reply.started": "2024-08-26T20:30:31.570475Z",
          "shell.execute_reply": "2024-08-26T20:30:31.585259Z"
        },
        "trusted": true,
        "id": "2e5954b197e75f6f",
        "colab": {
          "base_uri": "https://localhost:8080/"
        },
        "outputId": "4b73f2bc-0140-4471-c365-84cc0a3b74bd"
      },
      "id": "2e5954b197e75f6f",
      "outputs": [
        {
          "output_type": "stream",
          "name": "stdout",
          "text": [
            "train_loss_arr: [0.5610714852809906, 0.4155649431049824, 0.32879986469116473, 0.27340066826177967, 0.26623134097705287, 0.2371717109862301, 0.22846824820670816, 0.18952305407987702, 0.19507328366550306, 0.17511996135322583] ;\n",
            " test_loss_arr: [0.48312986438924616, 0.3501132202870918, 0.23702255958183246, 0.22146992994980377, 0.18738960339264435, 0.21545717306435108, 0.1991553081368858, 0.1599222267766229, 0.17242253615492673, 0.13062620087823068] ;\n",
            " test_auc_arr: [0.11191463091983411, 0.13445042184789957, 0.13218096833935977, 0.13544992209777473, 0.13389775700385098, 0.1384013875415232, 0.13312755387012376, 0.13057000911309047, 0.1393597318987565, 0.13028779727783157] ;\n"
          ]
        }
      ],
      "execution_count": null
    },
    {
      "cell_type": "code",
      "source": [
        "pd.DataFrame({\"train_loss_arr\":train_loss_arr, \"test_loss_arr\":test_loss_arr, \"test_auc_arr\":test_auc_arr})\n"
      ],
      "metadata": {
        "execution": {
          "iopub.status.busy": "2024-08-26T20:30:31.587036Z",
          "iopub.execute_input": "2024-08-26T20:30:31.587347Z",
          "iopub.status.idle": "2024-08-26T20:30:31.605554Z",
          "shell.execute_reply.started": "2024-08-26T20:30:31.587294Z",
          "shell.execute_reply": "2024-08-26T20:30:31.604456Z"
        },
        "trusted": true,
        "id": "d14072302e268df1",
        "colab": {
          "base_uri": "https://localhost:8080/",
          "height": 352
        },
        "outputId": "7fc43297-17dc-498b-ff89-28066e377190"
      },
      "id": "d14072302e268df1",
      "outputs": [
        {
          "output_type": "execute_result",
          "data": {
            "text/plain": [
              "   train_loss_arr  test_loss_arr  test_auc_arr\n",
              "0        0.561071       0.483130      0.111915\n",
              "1        0.415565       0.350113      0.134450\n",
              "2        0.328800       0.237023      0.132181\n",
              "3        0.273401       0.221470      0.135450\n",
              "4        0.266231       0.187390      0.133898\n",
              "5        0.237172       0.215457      0.138401\n",
              "6        0.228468       0.199155      0.133128\n",
              "7        0.189523       0.159922      0.130570\n",
              "8        0.195073       0.172423      0.139360\n",
              "9        0.175120       0.130626      0.130288"
            ],
            "text/html": [
              "\n",
              "  <div id=\"df-4b4fbc85-e149-4cb5-bd5f-255d57fa5e8e\" class=\"colab-df-container\">\n",
              "    <div>\n",
              "<style scoped>\n",
              "    .dataframe tbody tr th:only-of-type {\n",
              "        vertical-align: middle;\n",
              "    }\n",
              "\n",
              "    .dataframe tbody tr th {\n",
              "        vertical-align: top;\n",
              "    }\n",
              "\n",
              "    .dataframe thead th {\n",
              "        text-align: right;\n",
              "    }\n",
              "</style>\n",
              "<table border=\"1\" class=\"dataframe\">\n",
              "  <thead>\n",
              "    <tr style=\"text-align: right;\">\n",
              "      <th></th>\n",
              "      <th>train_loss_arr</th>\n",
              "      <th>test_loss_arr</th>\n",
              "      <th>test_auc_arr</th>\n",
              "    </tr>\n",
              "  </thead>\n",
              "  <tbody>\n",
              "    <tr>\n",
              "      <th>0</th>\n",
              "      <td>0.561071</td>\n",
              "      <td>0.483130</td>\n",
              "      <td>0.111915</td>\n",
              "    </tr>\n",
              "    <tr>\n",
              "      <th>1</th>\n",
              "      <td>0.415565</td>\n",
              "      <td>0.350113</td>\n",
              "      <td>0.134450</td>\n",
              "    </tr>\n",
              "    <tr>\n",
              "      <th>2</th>\n",
              "      <td>0.328800</td>\n",
              "      <td>0.237023</td>\n",
              "      <td>0.132181</td>\n",
              "    </tr>\n",
              "    <tr>\n",
              "      <th>3</th>\n",
              "      <td>0.273401</td>\n",
              "      <td>0.221470</td>\n",
              "      <td>0.135450</td>\n",
              "    </tr>\n",
              "    <tr>\n",
              "      <th>4</th>\n",
              "      <td>0.266231</td>\n",
              "      <td>0.187390</td>\n",
              "      <td>0.133898</td>\n",
              "    </tr>\n",
              "    <tr>\n",
              "      <th>5</th>\n",
              "      <td>0.237172</td>\n",
              "      <td>0.215457</td>\n",
              "      <td>0.138401</td>\n",
              "    </tr>\n",
              "    <tr>\n",
              "      <th>6</th>\n",
              "      <td>0.228468</td>\n",
              "      <td>0.199155</td>\n",
              "      <td>0.133128</td>\n",
              "    </tr>\n",
              "    <tr>\n",
              "      <th>7</th>\n",
              "      <td>0.189523</td>\n",
              "      <td>0.159922</td>\n",
              "      <td>0.130570</td>\n",
              "    </tr>\n",
              "    <tr>\n",
              "      <th>8</th>\n",
              "      <td>0.195073</td>\n",
              "      <td>0.172423</td>\n",
              "      <td>0.139360</td>\n",
              "    </tr>\n",
              "    <tr>\n",
              "      <th>9</th>\n",
              "      <td>0.175120</td>\n",
              "      <td>0.130626</td>\n",
              "      <td>0.130288</td>\n",
              "    </tr>\n",
              "  </tbody>\n",
              "</table>\n",
              "</div>\n",
              "    <div class=\"colab-df-buttons\">\n",
              "      \n",
              "  <div class=\"colab-df-container\">\n",
              "    <button class=\"colab-df-convert\" onclick=\"convertToInteractive('df-4b4fbc85-e149-4cb5-bd5f-255d57fa5e8e')\"\n",
              "            title=\"Convert this dataframe to an interactive table.\"\n",
              "            style=\"display:none;\">\n",
              "      \n",
              "  <svg xmlns=\"http://www.w3.org/2000/svg\" height=\"24px\" viewBox=\"0 -960 960 960\">\n",
              "    <path d=\"M120-120v-720h720v720H120Zm60-500h600v-160H180v160Zm220 220h160v-160H400v160Zm0 220h160v-160H400v160ZM180-400h160v-160H180v160Zm440 0h160v-160H620v160ZM180-180h160v-160H180v160Zm440 0h160v-160H620v160Z\"/>\n",
              "  </svg>\n",
              "    </button>\n",
              "    \n",
              "  <style>\n",
              "    .colab-df-container {\n",
              "      display:flex;\n",
              "      gap: 12px;\n",
              "    }\n",
              "\n",
              "    .colab-df-convert {\n",
              "      background-color: #E8F0FE;\n",
              "      border: none;\n",
              "      border-radius: 50%;\n",
              "      cursor: pointer;\n",
              "      display: none;\n",
              "      fill: #1967D2;\n",
              "      height: 32px;\n",
              "      padding: 0 0 0 0;\n",
              "      width: 32px;\n",
              "    }\n",
              "\n",
              "    .colab-df-convert:hover {\n",
              "      background-color: #E2EBFA;\n",
              "      box-shadow: 0px 1px 2px rgba(60, 64, 67, 0.3), 0px 1px 3px 1px rgba(60, 64, 67, 0.15);\n",
              "      fill: #174EA6;\n",
              "    }\n",
              "\n",
              "    .colab-df-buttons div {\n",
              "      margin-bottom: 4px;\n",
              "    }\n",
              "\n",
              "    [theme=dark] .colab-df-convert {\n",
              "      background-color: #3B4455;\n",
              "      fill: #D2E3FC;\n",
              "    }\n",
              "\n",
              "    [theme=dark] .colab-df-convert:hover {\n",
              "      background-color: #434B5C;\n",
              "      box-shadow: 0px 1px 3px 1px rgba(0, 0, 0, 0.15);\n",
              "      filter: drop-shadow(0px 1px 2px rgba(0, 0, 0, 0.3));\n",
              "      fill: #FFFFFF;\n",
              "    }\n",
              "  </style>\n",
              "\n",
              "    <script>\n",
              "      const buttonEl =\n",
              "        document.querySelector('#df-4b4fbc85-e149-4cb5-bd5f-255d57fa5e8e button.colab-df-convert');\n",
              "      buttonEl.style.display =\n",
              "        google.colab.kernel.accessAllowed ? 'block' : 'none';\n",
              "\n",
              "      async function convertToInteractive(key) {\n",
              "        const element = document.querySelector('#df-4b4fbc85-e149-4cb5-bd5f-255d57fa5e8e');\n",
              "        const dataTable =\n",
              "          await google.colab.kernel.invokeFunction('convertToInteractive',\n",
              "                                                    [key], {});\n",
              "        if (!dataTable) return;\n",
              "\n",
              "        const docLinkHtml = 'Like what you see? Visit the ' +\n",
              "          '<a target=\"_blank\" href=https://colab.research.google.com/notebooks/data_table.ipynb>data table notebook</a>'\n",
              "          + ' to learn more about interactive tables.';\n",
              "        element.innerHTML = '';\n",
              "        dataTable['output_type'] = 'display_data';\n",
              "        await google.colab.output.renderOutput(dataTable, element);\n",
              "        const docLink = document.createElement('div');\n",
              "        docLink.innerHTML = docLinkHtml;\n",
              "        element.appendChild(docLink);\n",
              "      }\n",
              "    </script>\n",
              "  </div>\n",
              "  \n",
              "    </div>\n",
              "  </div>\n",
              "  "
            ]
          },
          "metadata": {},
          "execution_count": 24
        }
      ],
      "execution_count": null
    },
    {
      "cell_type": "code",
      "source": [
        "# to play with: class_1_amount_per_batch\n",
        "#"
      ],
      "metadata": {
        "execution": {
          "iopub.status.busy": "2024-08-26T20:30:31.606603Z",
          "iopub.execute_input": "2024-08-26T20:30:31.606910Z",
          "iopub.status.idle": "2024-08-26T20:30:31.615682Z",
          "shell.execute_reply.started": "2024-08-26T20:30:31.606867Z",
          "shell.execute_reply": "2024-08-26T20:30:31.614814Z"
        },
        "trusted": true,
        "id": "4d96aa1e03f08f63"
      },
      "id": "4d96aa1e03f08f63",
      "outputs": [],
      "execution_count": null
    },
    {
      "cell_type": "markdown",
      "source": [],
      "metadata": {
        "id": "zSAtEI0ZloKw"
      },
      "id": "zSAtEI0ZloKw"
    }
  ]
}