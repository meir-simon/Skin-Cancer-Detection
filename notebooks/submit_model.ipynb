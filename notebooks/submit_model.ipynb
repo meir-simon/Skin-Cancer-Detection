{
 "cells": [
  {
   "metadata": {},
   "cell_type": "markdown",
   "source": [
    "# make sure you dont use the internet. \n",
    "this notbook run for me 10 hours... stay tune for updates"
   ],
   "id": "5f1e0cac2b9eb891"
  },
  {
   "cell_type": "code",
   "id": "initial_id",
   "metadata": {
    "collapsed": true,
    "ExecuteTime": {
     "end_time": "2024-08-16T09:34:18.084575Z",
     "start_time": "2024-08-16T09:34:18.082521Z"
    }
   },
   "source": [
    "import pandas as pd\n",
    "import numpy as np\n",
    "import os\n",
    "from PIL import Image\n",
    "import h5py\n",
    "from io import BytesIO"
   ],
   "outputs": [],
   "execution_count": 327
  },
  {
   "metadata": {
    "ExecuteTime": {
     "end_time": "2024-08-16T09:34:18.115124Z",
     "start_time": "2024-08-16T09:34:18.113230Z"
    }
   },
   "cell_type": "code",
   "source": [
    "import torch\n",
    "import torch.nn as nn\n",
    "from torch.utils.data import Dataset, DataLoader\n",
    "from torchvision.transforms import transforms\n",
    "from torchvision.models import vgg16"
   ],
   "id": "a86db4879228c07a",
   "outputs": [],
   "execution_count": 328
  },
  {
   "metadata": {
    "ExecuteTime": {
     "end_time": "2024-08-16T09:34:18.124555Z",
     "start_time": "2024-08-16T09:34:18.116810Z"
    }
   },
   "cell_type": "code",
   "source": "torch.manual_seed(1729)",
   "id": "5485c96ff667c61",
   "outputs": [
    {
     "data": {
      "text/plain": [
       "<torch._C.Generator at 0x17a0458d0>"
      ]
     },
     "execution_count": 329,
     "metadata": {},
     "output_type": "execute_result"
    }
   ],
   "execution_count": 329
  },
  {
   "metadata": {
    "ExecuteTime": {
     "end_time": "2024-08-16T09:34:18.128393Z",
     "start_time": "2024-08-16T09:34:18.126410Z"
    }
   },
   "cell_type": "code",
   "source": [
    "device = (\"cuda\" if torch.cuda.is_available() \n",
    "          else \"mps\" if torch.backends.mps.is_available() \n",
    "          else \"cpu\")\n",
    "torch.set_default_device(device)\n",
    "print(f\"device: {device}\")"
   ],
   "id": "944440ae3274604e",
   "outputs": [
    {
     "name": "stdout",
     "output_type": "stream",
     "text": [
      "device: mps\n"
     ]
    }
   ],
   "execution_count": 330
  },
  {
   "metadata": {},
   "cell_type": "markdown",
   "source": [
    "# IMPORTANT !!!    remember to update MODEL_PATH !!!\n",
    "* upload as a model in the right top corner (in kaggle)\n",
    "* copy its path and paste it in MODEl_PATH in IN_KAGGLE"
   ],
   "id": "c97e00ef6d95ea16"
  },
  {
   "metadata": {
    "ExecuteTime": {
     "end_time": "2024-08-16T09:34:18.131380Z",
     "start_time": "2024-08-16T09:34:18.129318Z"
    }
   },
   "cell_type": "code",
   "source": [
    "IN_KAGGLE = \"KAGGLE_KERNEL_RUN_TYPE\" in os.environ\n",
    "IN_COLAB = \"COLAB_GPU\" in os.environ\n",
    "\n",
    "if IN_COLAB:\n",
    "    from google.colab import userdata    \n",
    "    # only the first time\n",
    "    # os.environ[\"KAGGLE_KEY\"] = \"d0ebb5786a5a5439881827924cf0ccbd\"\n",
    "    # os.environ[\"KAGGLE_USERNAME\"] = \"yuda03979\"\n",
    "    # \n",
    "    # ! kaggle competitions download isic-2024-challenge\n",
    "    # ! unzip isic-2024-challenge.zip\n",
    "    MODEL_PATH = \"?\"\n",
    "    IMG_DIR = \"/content/test-image.hdf5\"\n",
    "    CSV_TEST_PATH = \"/content/test-metadata.csv\"\n",
    "elif IN_KAGGLE:\n",
    "    MODEL_PATH = \"_model_.pth\"\n",
    "    IMG_DIR = \"/kaggle/input/isic-2024-challenge/test-image.hdf5\"\n",
    "    CSV_TEST_PATH = \"/kaggle/input/isic-2024-challenge/test-metadata.csv\"\n",
    "else:\n",
    "    MODEL_PATH = \"_model_.pth\"\n",
    "    IMG_DIR = \"/Users/yuda/Desktop/data_bases/isic-2024-challenge/test-image.hdf5\"\n",
    "    CSV_TEST_PATH = \"/Users/yuda/PycharmProjects/my_isic2024/isic-2024-challenge/test-metadata.csv\""
   ],
   "id": "34e5fb10e7d23651",
   "outputs": [],
   "execution_count": 331
  },
  {
   "metadata": {},
   "cell_type": "markdown",
   "source": "# create custom Dataset with reading hdf5",
   "id": "36ce46da6a3bd2bb"
  },
  {
   "metadata": {
    "ExecuteTime": {
     "end_time": "2024-08-16T09:34:18.135168Z",
     "start_time": "2024-08-16T09:34:18.132391Z"
    }
   },
   "cell_type": "code",
   "source": [
    "class ISICDataset(Dataset):\n",
    "    \n",
    "    def __init__(self, df, transform=None):\n",
    "        self.df = df\n",
    "        self.transform = transform\n",
    "        self.file = h5py.File(IMG_DIR,'r')\n",
    "\n",
    "    def __len__(self):\n",
    "        return len(self.df)\n",
    "    \n",
    "    def __getitem__(self, idx):\n",
    "        binary_data = self.file[self.df.loc[idx, \"isic_id\"]][()]\n",
    "        img = Image.open(BytesIO(binary_data)).convert(\"RGB\")\n",
    "        \n",
    "        if self.transform:\n",
    "            img = self.transform(img)\n",
    "        return img\n"
   ],
   "id": "52c86e86e6b36669",
   "outputs": [],
   "execution_count": 332
  },
  {
   "metadata": {},
   "cell_type": "markdown",
   "source": "# choose/define your model (its layers and functions)",
   "id": "8940bc6b5f522e96"
  },
  {
   "metadata": {
    "ExecuteTime": {
     "end_time": "2024-08-16T09:34:18.151750Z",
     "start_time": "2024-08-16T09:34:18.141751Z"
    }
   },
   "cell_type": "code",
   "source": [
    "# an example. you also can make a class or python-function\n",
    "model = vgg16(weights=False) # internet cant be use\n",
    "model.classifier[6] = nn.Linear(model.classifier[6].in_features, 1)"
   ],
   "id": "5fbb1bd3e15b472c",
   "outputs": [
    {
     "name": "stderr",
     "output_type": "stream",
     "text": [
      "/opt/anaconda3/lib/python3.12/site-packages/torchvision/models/_utils.py:223: UserWarning: Arguments other than a weight enum or `None` for 'weights' are deprecated since 0.13 and may be removed in the future. The current behavior is equivalent to passing `weights=None`.\n",
      "  warnings.warn(msg)\n"
     ]
    }
   ],
   "execution_count": 333
  },
  {
   "metadata": {},
   "cell_type": "markdown",
   "source": "# upload model _model_.pth file and update the model weights",
   "id": "59b0263b12a1d338"
  },
  {
   "metadata": {
    "ExecuteTime": {
     "end_time": "2024-08-16T09:34:19.597186Z",
     "start_time": "2024-08-16T09:34:18.154298Z"
    }
   },
   "cell_type": "code",
   "source": [
    "model = model.to(device)\n",
    "model.load_state_dict(torch.load(MODEL_PATH))\n",
    "model.eval()"
   ],
   "id": "42fbf39b59798a",
   "outputs": [
    {
     "name": "stderr",
     "output_type": "stream",
     "text": [
      "/var/folders/tw/t4_6l2cn5hz3hqm6tjzgwk5c0000gn/T/ipykernel_12329/624715535.py:2: FutureWarning: You are using `torch.load` with `weights_only=False` (the current default value), which uses the default pickle module implicitly. It is possible to construct malicious pickle data which will execute arbitrary code during unpickling (See https://github.com/pytorch/pytorch/blob/main/SECURITY.md#untrusted-models for more details). In a future release, the default value for `weights_only` will be flipped to `True`. This limits the functions that could be executed during unpickling. Arbitrary objects will no longer be allowed to be loaded via this mode unless they are explicitly allowlisted by the user via `torch.serialization.add_safe_globals`. We recommend you start setting `weights_only=True` for any use case where you don't have full control of the loaded file. Please open an issue on GitHub for any issues related to this experimental feature.\n",
      "  model.load_state_dict(torch.load(MODEL_PATH))\n"
     ]
    },
    {
     "data": {
      "text/plain": [
       "VGG(\n",
       "  (features): Sequential(\n",
       "    (0): Conv2d(3, 64, kernel_size=(3, 3), stride=(1, 1), padding=(1, 1))\n",
       "    (1): ReLU(inplace=True)\n",
       "    (2): Conv2d(64, 64, kernel_size=(3, 3), stride=(1, 1), padding=(1, 1))\n",
       "    (3): ReLU(inplace=True)\n",
       "    (4): MaxPool2d(kernel_size=2, stride=2, padding=0, dilation=1, ceil_mode=False)\n",
       "    (5): Conv2d(64, 128, kernel_size=(3, 3), stride=(1, 1), padding=(1, 1))\n",
       "    (6): ReLU(inplace=True)\n",
       "    (7): Conv2d(128, 128, kernel_size=(3, 3), stride=(1, 1), padding=(1, 1))\n",
       "    (8): ReLU(inplace=True)\n",
       "    (9): MaxPool2d(kernel_size=2, stride=2, padding=0, dilation=1, ceil_mode=False)\n",
       "    (10): Conv2d(128, 256, kernel_size=(3, 3), stride=(1, 1), padding=(1, 1))\n",
       "    (11): ReLU(inplace=True)\n",
       "    (12): Conv2d(256, 256, kernel_size=(3, 3), stride=(1, 1), padding=(1, 1))\n",
       "    (13): ReLU(inplace=True)\n",
       "    (14): Conv2d(256, 256, kernel_size=(3, 3), stride=(1, 1), padding=(1, 1))\n",
       "    (15): ReLU(inplace=True)\n",
       "    (16): MaxPool2d(kernel_size=2, stride=2, padding=0, dilation=1, ceil_mode=False)\n",
       "    (17): Conv2d(256, 512, kernel_size=(3, 3), stride=(1, 1), padding=(1, 1))\n",
       "    (18): ReLU(inplace=True)\n",
       "    (19): Conv2d(512, 512, kernel_size=(3, 3), stride=(1, 1), padding=(1, 1))\n",
       "    (20): ReLU(inplace=True)\n",
       "    (21): Conv2d(512, 512, kernel_size=(3, 3), stride=(1, 1), padding=(1, 1))\n",
       "    (22): ReLU(inplace=True)\n",
       "    (23): MaxPool2d(kernel_size=2, stride=2, padding=0, dilation=1, ceil_mode=False)\n",
       "    (24): Conv2d(512, 512, kernel_size=(3, 3), stride=(1, 1), padding=(1, 1))\n",
       "    (25): ReLU(inplace=True)\n",
       "    (26): Conv2d(512, 512, kernel_size=(3, 3), stride=(1, 1), padding=(1, 1))\n",
       "    (27): ReLU(inplace=True)\n",
       "    (28): Conv2d(512, 512, kernel_size=(3, 3), stride=(1, 1), padding=(1, 1))\n",
       "    (29): ReLU(inplace=True)\n",
       "    (30): MaxPool2d(kernel_size=2, stride=2, padding=0, dilation=1, ceil_mode=False)\n",
       "  )\n",
       "  (avgpool): AdaptiveAvgPool2d(output_size=(7, 7))\n",
       "  (classifier): Sequential(\n",
       "    (0): Linear(in_features=25088, out_features=4096, bias=True)\n",
       "    (1): ReLU(inplace=True)\n",
       "    (2): Dropout(p=0.5, inplace=False)\n",
       "    (3): Linear(in_features=4096, out_features=4096, bias=True)\n",
       "    (4): ReLU(inplace=True)\n",
       "    (5): Dropout(p=0.5, inplace=False)\n",
       "    (6): Linear(in_features=4096, out_features=1, bias=True)\n",
       "  )\n",
       ")"
      ]
     },
     "execution_count": 334,
     "metadata": {},
     "output_type": "execute_result"
    }
   ],
   "execution_count": 334
  },
  {
   "metadata": {
    "ExecuteTime": {
     "end_time": "2024-08-16T09:34:19.600098Z",
     "start_time": "2024-08-16T09:34:19.598259Z"
    }
   },
   "cell_type": "code",
   "source": [
    "BATCH_SIZE = 128\n",
    "IMG_SIZE = (224, 224)"
   ],
   "id": "a9890426ca1bad66",
   "outputs": [],
   "execution_count": 335
  },
  {
   "metadata": {
    "ExecuteTime": {
     "end_time": "2024-08-16T09:34:19.605755Z",
     "start_time": "2024-08-16T09:34:19.600814Z"
    }
   },
   "cell_type": "code",
   "source": [
    "ISIC_df = pd.read_csv(CSV_TEST_PATH)\n",
    "ISIC_df = ISIC_df[[\"isic_id\"]]\n",
    "ISIC_df"
   ],
   "id": "248fc9a823c90b47",
   "outputs": [
    {
     "data": {
      "text/plain": [
       "        isic_id\n",
       "0  ISIC_0015657\n",
       "1  ISIC_0015729\n",
       "2  ISIC_0015740"
      ],
      "text/html": [
       "<div>\n",
       "<style scoped>\n",
       "    .dataframe tbody tr th:only-of-type {\n",
       "        vertical-align: middle;\n",
       "    }\n",
       "\n",
       "    .dataframe tbody tr th {\n",
       "        vertical-align: top;\n",
       "    }\n",
       "\n",
       "    .dataframe thead th {\n",
       "        text-align: right;\n",
       "    }\n",
       "</style>\n",
       "<table border=\"1\" class=\"dataframe\">\n",
       "  <thead>\n",
       "    <tr style=\"text-align: right;\">\n",
       "      <th></th>\n",
       "      <th>isic_id</th>\n",
       "    </tr>\n",
       "  </thead>\n",
       "  <tbody>\n",
       "    <tr>\n",
       "      <th>0</th>\n",
       "      <td>ISIC_0015657</td>\n",
       "    </tr>\n",
       "    <tr>\n",
       "      <th>1</th>\n",
       "      <td>ISIC_0015729</td>\n",
       "    </tr>\n",
       "    <tr>\n",
       "      <th>2</th>\n",
       "      <td>ISIC_0015740</td>\n",
       "    </tr>\n",
       "  </tbody>\n",
       "</table>\n",
       "</div>"
      ]
     },
     "execution_count": 336,
     "metadata": {},
     "output_type": "execute_result"
    }
   ],
   "execution_count": 336
  },
  {
   "metadata": {
    "ExecuteTime": {
     "end_time": "2024-08-16T09:34:19.608559Z",
     "start_time": "2024-08-16T09:34:19.606957Z"
    }
   },
   "cell_type": "code",
   "source": [
    "transform = transforms.Compose([transforms.Resize(IMG_SIZE),\n",
    "                                transforms.ToTensor(),\n",
    "                                transforms.Normalize(mean=[0.485, 0.456, 0.406], std=[0.229, 0.224, 0.225])])"
   ],
   "id": "8e9688198f168500",
   "outputs": [],
   "execution_count": 337
  },
  {
   "metadata": {
    "ExecuteTime": {
     "end_time": "2024-08-16T09:34:19.611461Z",
     "start_time": "2024-08-16T09:34:19.609013Z"
    }
   },
   "cell_type": "code",
   "source": [
    "test_dataset = ISICDataset(ISIC_df, transform)\n",
    "test_dataloader = DataLoader(test_dataset, batch_size=BATCH_SIZE, shuffle=False) # cant be shuffled"
   ],
   "id": "8cbf782d48bf203c",
   "outputs": [],
   "execution_count": 338
  },
  {
   "metadata": {},
   "cell_type": "markdown",
   "source": "# the predictions on the model",
   "id": "b8fcc35910361487"
  },
  {
   "metadata": {
    "ExecuteTime": {
     "end_time": "2024-08-16T09:34:19.614082Z",
     "start_time": "2024-08-16T09:34:19.612086Z"
    }
   },
   "cell_type": "code",
   "source": [
    "pred_arr = np.array([])\n",
    "def test(dataloader, model):\n",
    "    model.eval()\n",
    "    global pred_arr\n",
    "    with torch.no_grad():\n",
    "        for batch, imgs in enumerate(dataloader):\n",
    "            imgs = imgs.to(device)\n",
    "\n",
    "            pred_labels = model(imgs)\n",
    "            pred_labels = torch.sigmoid(pred_labels)\n",
    "            \n",
    "            pred_arr = np.concatenate((pred_arr, pred_labels.cpu().flatten().detach().numpy()), axis=None)\n",
    "            \n",
    "            # print(f\"{batch} from {len(dataloader)}\") # => to see the progress. you can also do if batch % 50 == 0 then print...\n",
    "    return pred_arr\n"
   ],
   "id": "6c938f9b395423af",
   "outputs": [],
   "execution_count": 339
  },
  {
   "metadata": {
    "ExecuteTime": {
     "end_time": "2024-08-16T09:34:19.788094Z",
     "start_time": "2024-08-16T09:34:19.614763Z"
    }
   },
   "cell_type": "code",
   "source": [
    "ISIC_df[\"target\"] = test(test_dataloader, model)\n",
    "ISIC_df.head()"
   ],
   "id": "38274f4b542da3ca",
   "outputs": [
    {
     "data": {
      "text/plain": [
       "        isic_id    target\n",
       "0  ISIC_0015657  0.949813\n",
       "1  ISIC_0015729  0.005314\n",
       "2  ISIC_0015740  0.004101"
      ],
      "text/html": [
       "<div>\n",
       "<style scoped>\n",
       "    .dataframe tbody tr th:only-of-type {\n",
       "        vertical-align: middle;\n",
       "    }\n",
       "\n",
       "    .dataframe tbody tr th {\n",
       "        vertical-align: top;\n",
       "    }\n",
       "\n",
       "    .dataframe thead th {\n",
       "        text-align: right;\n",
       "    }\n",
       "</style>\n",
       "<table border=\"1\" class=\"dataframe\">\n",
       "  <thead>\n",
       "    <tr style=\"text-align: right;\">\n",
       "      <th></th>\n",
       "      <th>isic_id</th>\n",
       "      <th>target</th>\n",
       "    </tr>\n",
       "  </thead>\n",
       "  <tbody>\n",
       "    <tr>\n",
       "      <th>0</th>\n",
       "      <td>ISIC_0015657</td>\n",
       "      <td>0.949813</td>\n",
       "    </tr>\n",
       "    <tr>\n",
       "      <th>1</th>\n",
       "      <td>ISIC_0015729</td>\n",
       "      <td>0.005314</td>\n",
       "    </tr>\n",
       "    <tr>\n",
       "      <th>2</th>\n",
       "      <td>ISIC_0015740</td>\n",
       "      <td>0.004101</td>\n",
       "    </tr>\n",
       "  </tbody>\n",
       "</table>\n",
       "</div>"
      ]
     },
     "execution_count": 340,
     "metadata": {},
     "output_type": "execute_result"
    }
   ],
   "execution_count": 340
  },
  {
   "metadata": {
    "ExecuteTime": {
     "end_time": "2024-08-16T09:34:19.795030Z",
     "start_time": "2024-08-16T09:34:19.788987Z"
    }
   },
   "cell_type": "code",
   "source": "ISIC_df.to_csv(\"submission.csv\", index=False)",
   "id": "e35121a0bcd4cd78",
   "outputs": [],
   "execution_count": 341
  }
 ],
 "metadata": {
  "kernelspec": {
   "display_name": "Python 3",
   "language": "python",
   "name": "python3"
  },
  "language_info": {
   "codemirror_mode": {
    "name": "ipython",
    "version": 2
   },
   "file_extension": ".py",
   "mimetype": "text/x-python",
   "name": "python",
   "nbconvert_exporter": "python",
   "pygments_lexer": "ipython2",
   "version": "2.7.6"
  }
 },
 "nbformat": 4,
 "nbformat_minor": 5
}
