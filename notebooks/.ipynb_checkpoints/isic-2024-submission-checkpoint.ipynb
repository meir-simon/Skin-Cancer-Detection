{
 "cells": [
  {
   "cell_type": "code",
   "execution_count": 1,
   "metadata": {
    "execution": {
     "iopub.execute_input": "2024-07-28T17:55:47.118629Z",
     "iopub.status.busy": "2024-07-28T17:55:47.118249Z",
     "iopub.status.idle": "2024-07-28T17:55:49.270703Z",
     "shell.execute_reply": "2024-07-28T17:55:49.269895Z",
     "shell.execute_reply.started": "2024-07-28T17:55:47.118600Z"
    }
   },
   "outputs": [],
   "source": [
    "from xgboost import XGBClassifier\n",
    "\n",
    "random_state = 42"
   ]
  },
  {
   "cell_type": "code",
   "execution_count": 2,
   "metadata": {
    "execution": {
     "iopub.execute_input": "2024-07-28T17:55:49.272915Z",
     "iopub.status.busy": "2024-07-28T17:55:49.272426Z",
     "iopub.status.idle": "2024-07-28T17:55:56.553552Z",
     "shell.execute_reply": "2024-07-28T17:55:56.552680Z",
     "shell.execute_reply.started": "2024-07-28T17:55:49.272885Z"
    }
   },
   "outputs": [
    {
     "name": "stderr",
     "output_type": "stream",
     "text": [
      "<timed exec>:3: DtypeWarning: Columns (51,52) have mixed types. Specify dtype option on import or set low_memory=False.\n"
     ]
    },
    {
     "name": "stdout",
     "output_type": "stream",
     "text": [
      "train shape - (401059, 55)\n",
      "test shape -  (3, 44)\n",
      "CPU times: user 4.6 s, sys: 504 ms, total: 5.11 s\n",
      "Wall time: 7.28 s\n"
     ]
    }
   ],
   "source": [
    "%%time\n",
    "\n",
    "import pandas as pd\n",
    "\n",
    "train = pd.read_csv('/kaggle/input/isic-2024-challenge/train-metadata.csv')\n",
    "test = pd.read_csv('/kaggle/input/isic-2024-challenge/test-metadata.csv')\n",
    "sample_submission = pd.read_csv('/kaggle/input/isic-2024-challenge/sample_submission.csv')\n",
    "\n",
    "print(\"train shape -\", train.shape)\n",
    "print(\"test shape - \", test.shape)"
   ]
  },
  {
   "cell_type": "code",
   "execution_count": 3,
   "metadata": {
    "execution": {
     "iopub.execute_input": "2024-07-28T17:55:56.555104Z",
     "iopub.status.busy": "2024-07-28T17:55:56.554772Z",
     "iopub.status.idle": "2024-07-28T17:55:56.559527Z",
     "shell.execute_reply": "2024-07-28T17:55:56.558452Z",
     "shell.execute_reply.started": "2024-07-28T17:55:56.555076Z"
    }
   },
   "outputs": [],
   "source": [
    "cols = test.columns\n",
    "# cols = list(cols).append(\"target\")"
   ]
  },
  {
   "cell_type": "code",
   "execution_count": 4,
   "metadata": {
    "execution": {
     "iopub.execute_input": "2024-07-28T17:55:56.562157Z",
     "iopub.status.busy": "2024-07-28T17:55:56.561888Z",
     "iopub.status.idle": "2024-07-28T17:55:56.569381Z",
     "shell.execute_reply": "2024-07-28T17:55:56.568528Z",
     "shell.execute_reply.started": "2024-07-28T17:55:56.562135Z"
    }
   },
   "outputs": [
    {
     "name": "stdout",
     "output_type": "stream",
     "text": [
      "['isic_id', 'patient_id', 'age_approx', 'sex', 'anatom_site_general', 'clin_size_long_diam_mm', 'image_type', 'tbp_tile_type', 'tbp_lv_A', 'tbp_lv_Aext', 'tbp_lv_B', 'tbp_lv_Bext', 'tbp_lv_C', 'tbp_lv_Cext', 'tbp_lv_H', 'tbp_lv_Hext', 'tbp_lv_L', 'tbp_lv_Lext', 'tbp_lv_areaMM2', 'tbp_lv_area_perim_ratio', 'tbp_lv_color_std_mean', 'tbp_lv_deltaA', 'tbp_lv_deltaB', 'tbp_lv_deltaL', 'tbp_lv_deltaLB', 'tbp_lv_deltaLBnorm', 'tbp_lv_eccentricity', 'tbp_lv_location', 'tbp_lv_location_simple', 'tbp_lv_minorAxisMM', 'tbp_lv_nevi_confidence', 'tbp_lv_norm_border', 'tbp_lv_norm_color', 'tbp_lv_perimeterMM', 'tbp_lv_radial_color_std_max', 'tbp_lv_stdL', 'tbp_lv_stdLExt', 'tbp_lv_symm_2axis', 'tbp_lv_symm_2axis_angle', 'tbp_lv_x', 'tbp_lv_y', 'tbp_lv_z', 'attribution', 'copyright_license', 'target']\n"
     ]
    }
   ],
   "source": [
    "col_names = list(cols)\n",
    "col_names.append(\"target\")\n",
    "print(col_names)"
   ]
  },
  {
   "cell_type": "code",
   "execution_count": 5,
   "metadata": {
    "execution": {
     "iopub.execute_input": "2024-07-28T17:55:56.571468Z",
     "iopub.status.busy": "2024-07-28T17:55:56.570722Z",
     "iopub.status.idle": "2024-07-28T17:55:56.685305Z",
     "shell.execute_reply": "2024-07-28T17:55:56.684555Z",
     "shell.execute_reply.started": "2024-07-28T17:55:56.571433Z"
    }
   },
   "outputs": [],
   "source": [
    "\n",
    "# keep just the test columns\n",
    "train = train[col_names]"
   ]
  },
  {
   "cell_type": "code",
   "execution_count": 6,
   "metadata": {
    "execution": {
     "iopub.execute_input": "2024-07-28T17:55:56.686777Z",
     "iopub.status.busy": "2024-07-28T17:55:56.686406Z",
     "iopub.status.idle": "2024-07-28T17:55:57.081480Z",
     "shell.execute_reply": "2024-07-28T17:55:57.080567Z",
     "shell.execute_reply.started": "2024-07-28T17:55:56.686745Z"
    }
   },
   "outputs": [
    {
     "name": "stdout",
     "output_type": "stream",
     "text": [
      "CPU times: user 385 ms, sys: 2.73 ms, total: 388 ms\n",
      "Wall time: 383 ms\n"
     ]
    },
    {
     "data": {
      "text/plain": [
       "(isic_id                            0\n",
       " patient_id                         0\n",
       " age_approx                      2798\n",
       " sex                            11517\n",
       " anatom_site_general             5756\n",
       " clin_size_long_diam_mm             0\n",
       " image_type                         0\n",
       " tbp_tile_type                      0\n",
       " tbp_lv_A                           0\n",
       " tbp_lv_Aext                        0\n",
       " tbp_lv_B                           0\n",
       " tbp_lv_Bext                        0\n",
       " tbp_lv_C                           0\n",
       " tbp_lv_Cext                        0\n",
       " tbp_lv_H                           0\n",
       " tbp_lv_Hext                        0\n",
       " tbp_lv_L                           0\n",
       " tbp_lv_Lext                        0\n",
       " tbp_lv_areaMM2                     0\n",
       " tbp_lv_area_perim_ratio            0\n",
       " tbp_lv_color_std_mean              0\n",
       " tbp_lv_deltaA                      0\n",
       " tbp_lv_deltaB                      0\n",
       " tbp_lv_deltaL                      0\n",
       " tbp_lv_deltaLB                     0\n",
       " tbp_lv_deltaLBnorm                 0\n",
       " tbp_lv_eccentricity                0\n",
       " tbp_lv_location                    0\n",
       " tbp_lv_location_simple             0\n",
       " tbp_lv_minorAxisMM                 0\n",
       " tbp_lv_nevi_confidence             0\n",
       " tbp_lv_norm_border                 0\n",
       " tbp_lv_norm_color                  0\n",
       " tbp_lv_perimeterMM                 0\n",
       " tbp_lv_radial_color_std_max        0\n",
       " tbp_lv_stdL                        0\n",
       " tbp_lv_stdLExt                     0\n",
       " tbp_lv_symm_2axis                  0\n",
       " tbp_lv_symm_2axis_angle            0\n",
       " tbp_lv_x                           0\n",
       " tbp_lv_y                           0\n",
       " tbp_lv_z                           0\n",
       " attribution                        0\n",
       " copyright_license                  0\n",
       " target                             0\n",
       " dtype: int64,\n",
       " isic_id                        0\n",
       " patient_id                     0\n",
       " age_approx                     0\n",
       " sex                            0\n",
       " anatom_site_general            0\n",
       " clin_size_long_diam_mm         0\n",
       " image_type                     0\n",
       " tbp_tile_type                  0\n",
       " tbp_lv_A                       0\n",
       " tbp_lv_Aext                    0\n",
       " tbp_lv_B                       0\n",
       " tbp_lv_Bext                    0\n",
       " tbp_lv_C                       0\n",
       " tbp_lv_Cext                    0\n",
       " tbp_lv_H                       0\n",
       " tbp_lv_Hext                    0\n",
       " tbp_lv_L                       0\n",
       " tbp_lv_Lext                    0\n",
       " tbp_lv_areaMM2                 0\n",
       " tbp_lv_area_perim_ratio        0\n",
       " tbp_lv_color_std_mean          0\n",
       " tbp_lv_deltaA                  0\n",
       " tbp_lv_deltaB                  0\n",
       " tbp_lv_deltaL                  0\n",
       " tbp_lv_deltaLB                 0\n",
       " tbp_lv_deltaLBnorm             0\n",
       " tbp_lv_eccentricity            0\n",
       " tbp_lv_location                0\n",
       " tbp_lv_location_simple         0\n",
       " tbp_lv_minorAxisMM             0\n",
       " tbp_lv_nevi_confidence         0\n",
       " tbp_lv_norm_border             0\n",
       " tbp_lv_norm_color              0\n",
       " tbp_lv_perimeterMM             0\n",
       " tbp_lv_radial_color_std_max    0\n",
       " tbp_lv_stdL                    0\n",
       " tbp_lv_stdLExt                 0\n",
       " tbp_lv_symm_2axis              0\n",
       " tbp_lv_symm_2axis_angle        0\n",
       " tbp_lv_x                       0\n",
       " tbp_lv_y                       0\n",
       " tbp_lv_z                       0\n",
       " attribution                    0\n",
       " copyright_license              0\n",
       " dtype: int64,\n",
       " isic_id    0\n",
       " target     0\n",
       " dtype: int64)"
      ]
     },
     "execution_count": 6,
     "metadata": {},
     "output_type": "execute_result"
    }
   ],
   "source": [
    "%%time\n",
    "\n",
    "# Check for missing values in each dataset\n",
    "missing_values_train = train.isnull().sum()\n",
    "missing_values_test = test.isnull().sum()\n",
    "missing_values_sample_submission = sample_submission.isnull().sum()\n",
    "\n",
    "missing_values_train, missing_values_test, missing_values_sample_submission"
   ]
  },
  {
   "cell_type": "code",
   "execution_count": 7,
   "metadata": {
    "execution": {
     "iopub.execute_input": "2024-07-28T17:55:57.082824Z",
     "iopub.status.busy": "2024-07-28T17:55:57.082582Z",
     "iopub.status.idle": "2024-07-28T17:55:57.743016Z",
     "shell.execute_reply": "2024-07-28T17:55:57.742039Z",
     "shell.execute_reply.started": "2024-07-28T17:55:57.082803Z"
    }
   },
   "outputs": [
    {
     "name": "stdout",
     "output_type": "stream",
     "text": [
      "CPU times: user 556 ms, sys: 44.2 ms, total: 600 ms\n",
      "Wall time: 545 ms\n"
     ]
    },
    {
     "data": {
      "text/plain": [
       "(             isic_id  patient_id  age_approx     sex anatom_site_general  \\\n",
       " 0       ISIC_0015670  IP_1235828        60.0    male     lower extremity   \n",
       " 1       ISIC_0015845  IP_8170065        60.0    male           head/neck   \n",
       " 2       ISIC_0015864  IP_6724798        60.0    male     posterior torso   \n",
       " 3       ISIC_0015902  IP_4111386        65.0    male      anterior torso   \n",
       " 4       ISIC_0024200  IP_8313778        55.0    male      anterior torso   \n",
       " ...              ...         ...         ...     ...                 ...   \n",
       " 401054  ISIC_9999937  IP_1140263        70.0    male      anterior torso   \n",
       " 401055  ISIC_9999951  IP_5678181        60.0    male     posterior torso   \n",
       " 401056  ISIC_9999960  IP_0076153        65.0  female      anterior torso   \n",
       " 401057  ISIC_9999964  IP_5231513        30.0  female      anterior torso   \n",
       " 401058  ISIC_9999967  IP_6426047        50.0    male     lower extremity   \n",
       " \n",
       "         clin_size_long_diam_mm          image_type tbp_tile_type   tbp_lv_A  \\\n",
       " 0                         3.04  TBP tile: close-up     3D: white  20.244422   \n",
       " 1                         1.10  TBP tile: close-up     3D: white  31.712570   \n",
       " 2                         3.40  TBP tile: close-up        3D: XP  22.575830   \n",
       " 3                         3.22  TBP tile: close-up        3D: XP  14.242329   \n",
       " 4                         2.73  TBP tile: close-up     3D: white  24.725520   \n",
       " ...                        ...                 ...           ...        ...   \n",
       " 401054                    6.80  TBP tile: close-up        3D: XP  22.574335   \n",
       " 401055                    3.11  TBP tile: close-up     3D: white  19.977640   \n",
       " 401056                    2.05  TBP tile: close-up        3D: XP  17.332567   \n",
       " 401057                    2.80  TBP tile: close-up        3D: XP  22.288570   \n",
       " 401058                    3.30  TBP tile: close-up        3D: XP  16.792900   \n",
       " \n",
       "         tbp_lv_Aext  ...  tbp_lv_stdL  tbp_lv_stdLExt  tbp_lv_symm_2axis  \\\n",
       " 0         16.261975  ...     2.036195        2.637780           0.590476   \n",
       " 1         25.364740  ...     0.853227        3.912844           0.285714   \n",
       " 2         17.128170  ...     1.743651        1.950777           0.361905   \n",
       " 3         12.164757  ...     1.258541        1.573733           0.209581   \n",
       " 4         20.057470  ...     2.085409        2.480509           0.313433   \n",
       " ...             ...  ...          ...             ...                ...   \n",
       " 401054    14.944666  ...     7.054819        2.169398           0.288920   \n",
       " 401055    16.026870  ...     1.879502        2.910780           0.460000   \n",
       " 401056    12.364397  ...     1.702824        2.205272           0.183099   \n",
       " 401057     9.564721  ...     3.680175        1.957157           0.161850   \n",
       " 401058    11.434730  ...     3.068755        3.199104           0.197917   \n",
       " \n",
       "         tbp_lv_symm_2axis_angle    tbp_lv_x     tbp_lv_y    tbp_lv_z  \\\n",
       " 0                            85 -182.703552   613.493652  -42.427948   \n",
       " 1                            55   -0.078308  1575.687000   57.174500   \n",
       " 2                           105  123.649700  1472.010000  232.908900   \n",
       " 3                           130 -141.024780  1442.185791   58.359802   \n",
       " 4                            20  -72.315640  1488.720000   21.428960   \n",
       " ...                         ...         ...          ...         ...   \n",
       " 401054                      100  147.187256  1182.317505  122.652588   \n",
       " 401055                       25   52.349740  1393.187000  127.261700   \n",
       " 401056                       40   54.622246  1065.263672 -106.833740   \n",
       " 401057                      140   -9.861557   877.527000  -76.982120   \n",
       " 401058                       45 -258.872300   148.606200  107.710600   \n",
       " \n",
       "                                               attribution  copyright_license  \\\n",
       " 0                  Memorial Sloan Kettering Cancer Center              CC-BY   \n",
       " 1                  Memorial Sloan Kettering Cancer Center              CC-BY   \n",
       " 2                  Memorial Sloan Kettering Cancer Center              CC-BY   \n",
       " 3                                              ACEMID MIA               CC-0   \n",
       " 4                  Memorial Sloan Kettering Cancer Center              CC-BY   \n",
       " ...                                                   ...                ...   \n",
       " 401054  Department of Dermatology, Hospital Clínic de ...           CC-BY-NC   \n",
       " 401055             Memorial Sloan Kettering Cancer Center              CC-BY   \n",
       " 401056  Frazer Institute, The University of Queensland...              CC-BY   \n",
       " 401057                       University Hospital of Basel           CC-BY-NC   \n",
       " 401058  Department of Dermatology, University of Athen...              CC-BY   \n",
       " \n",
       "         target  \n",
       " 0            0  \n",
       " 1            0  \n",
       " 2            0  \n",
       " 3            0  \n",
       " 4            0  \n",
       " ...        ...  \n",
       " 401054       0  \n",
       " 401055       0  \n",
       " 401056       0  \n",
       " 401057       0  \n",
       " 401058       0  \n",
       " \n",
       " [401059 rows x 45 columns],\n",
       "         isic_id  patient_id  age_approx     sex anatom_site_general  \\\n",
       " 0  ISIC_0015657  IP_6074337        45.0    male     posterior torso   \n",
       " 1  ISIC_0015729  IP_1664139        35.0  female     lower extremity   \n",
       " 2  ISIC_0015740  IP_7142616        65.0    male     posterior torso   \n",
       " \n",
       "    clin_size_long_diam_mm          image_type tbp_tile_type  tbp_lv_A  \\\n",
       " 0                    2.70  TBP tile: close-up        3D: XP  22.80433   \n",
       " 1                    2.52  TBP tile: close-up        3D: XP  16.64867   \n",
       " 2                    3.16  TBP tile: close-up        3D: XP  24.25384   \n",
       " \n",
       "    tbp_lv_Aext  ...  tbp_lv_radial_color_std_max  tbp_lv_stdL  tbp_lv_stdLExt  \\\n",
       " 0    20.007270  ...                     0.304827     1.281532        2.299935   \n",
       " 1     9.657964  ...                     0.000000     1.271940        2.011223   \n",
       " 2    19.937380  ...                     0.230742     1.080308        2.705857   \n",
       " \n",
       "    tbp_lv_symm_2axis  tbp_lv_symm_2axis_angle   tbp_lv_x     tbp_lv_y  \\\n",
       " 0           0.479339                       20 -155.06510  1511.222000   \n",
       " 1           0.426230                       25 -112.36924   629.535889   \n",
       " 2           0.366071                      110  -84.29282  1303.978000   \n",
       " \n",
       "      tbp_lv_z                                        attribution  \\\n",
       " 0  113.980100             Memorial Sloan Kettering Cancer Center   \n",
       " 1  -15.019287  Frazer Institute, The University of Queensland...   \n",
       " 2  -28.576050                                        FNQH Cairns   \n",
       " \n",
       "    copyright_license  \n",
       " 0              CC-BY  \n",
       " 1              CC-BY  \n",
       " 2              CC-BY  \n",
       " \n",
       " [3 rows x 44 columns],\n",
       "         isic_id  target\n",
       " 0  ISIC_0015657     0.3\n",
       " 1  ISIC_0015729     0.3\n",
       " 2  ISIC_0015740     0.3)"
      ]
     },
     "execution_count": 7,
     "metadata": {},
     "output_type": "execute_result"
    }
   ],
   "source": [
    "%%time\n",
    "\n",
    "# Replace NaN with 0 in all datasets\n",
    "train_filled = train.fillna(0)\n",
    "test_filled = test.fillna(0)\n",
    "sample_submission_filled = sample_submission.fillna(0)\n",
    "\n",
    "\n",
    "train_filled, test_filled, sample_submission_filled"
   ]
  },
  {
   "cell_type": "code",
   "execution_count": 8,
   "metadata": {
    "execution": {
     "iopub.execute_input": "2024-07-28T17:55:57.744601Z",
     "iopub.status.busy": "2024-07-28T17:55:57.744304Z",
     "iopub.status.idle": "2024-07-28T17:55:58.909951Z",
     "shell.execute_reply": "2024-07-28T17:55:58.908979Z",
     "shell.execute_reply.started": "2024-07-28T17:55:57.744575Z"
    }
   },
   "outputs": [
    {
     "name": "stdout",
     "output_type": "stream",
     "text": [
      "   age_approx  sex  anatom_site_general  clin_size_long_diam_mm  image_type  \\\n",
      "0        60.0    2                    3                    3.04           0   \n",
      "1        60.0    2                    2                    1.10           0   \n",
      "2        60.0    2                    4                    3.40           0   \n",
      "3        65.0    2                    1                    3.22           0   \n",
      "4        55.0    2                    1                    2.73           0   \n",
      "\n",
      "   tbp_tile_type   tbp_lv_A  tbp_lv_Aext   tbp_lv_B  tbp_lv_Bext  ...  \\\n",
      "0              1  20.244422    16.261975  26.922447    23.954773  ...   \n",
      "1              1  31.712570    25.364740  26.331000    24.549290  ...   \n",
      "2              0  22.575830    17.128170  37.970460    33.485410  ...   \n",
      "3              0  14.242329    12.164757  21.448144    21.121356  ...   \n",
      "4              1  24.725520    20.057470  26.464900    25.710460  ...   \n",
      "\n",
      "   tbp_lv_perimeterMM  tbp_lv_radial_color_std_max  tbp_lv_stdL  \\\n",
      "0            9.307003                      0.00000     2.036195   \n",
      "1            3.354148                      0.00000     0.853227   \n",
      "2            8.886309                      0.00000     1.743651   \n",
      "3            9.514499                      0.66469     1.258541   \n",
      "4            6.467562                      0.00000     2.085409   \n",
      "\n",
      "   tbp_lv_stdLExt  tbp_lv_symm_2axis  tbp_lv_symm_2axis_angle    tbp_lv_x  \\\n",
      "0        2.637780           0.590476                       85 -182.703552   \n",
      "1        3.912844           0.285714                       55   -0.078308   \n",
      "2        1.950777           0.361905                      105  123.649700   \n",
      "3        1.573733           0.209581                      130 -141.024780   \n",
      "4        2.480509           0.313433                       20  -72.315640   \n",
      "\n",
      "      tbp_lv_y    tbp_lv_z  copyright_license  \n",
      "0   613.493652  -42.427948                  1  \n",
      "1  1575.687000   57.174500                  1  \n",
      "2  1472.010000  232.908900                  1  \n",
      "3  1442.185791   58.359802                  0  \n",
      "4  1488.720000   21.428960                  1  \n",
      "\n",
      "[5 rows x 41 columns]\n",
      "CPU times: user 940 ms, sys: 45.4 ms, total: 986 ms\n",
      "Wall time: 1.16 s\n"
     ]
    }
   ],
   "source": [
    "%%time\n",
    "\n",
    "from sklearn.preprocessing import LabelEncoder\n",
    "from sklearn.model_selection import train_test_split\n",
    "from imblearn.over_sampling import SMOTE\n",
    "from sklearn.linear_model import LogisticRegression\n",
    "from sklearn.metrics import classification_report\n",
    "\n",
    "# Drop non-numeric features or convert them if needed\n",
    "X = train_filled.drop(['target', 'patient_id', 'isic_id', 'attribution'], axis=1)\n",
    "y = train_filled['target']\n",
    "\n",
    "# Convert categorical variables to numeric\n",
    "object_cols = X.select_dtypes(include=['object']).columns\n",
    "\n",
    "label_encoders = {}\n",
    "for col in object_cols:\n",
    "    le = LabelEncoder()\n",
    "    X[col] = le.fit_transform(X[col].astype(str))\n",
    "    label_encoders[col] = le\n",
    "    \n",
    "print(X.head())"
   ]
  },
  {
   "cell_type": "code",
   "execution_count": 9,
   "metadata": {
    "execution": {
     "iopub.execute_input": "2024-07-28T17:55:58.912424Z",
     "iopub.status.busy": "2024-07-28T17:55:58.911595Z",
     "iopub.status.idle": "2024-07-28T17:55:58.922579Z",
     "shell.execute_reply": "2024-07-28T17:55:58.921664Z",
     "shell.execute_reply.started": "2024-07-28T17:55:58.912386Z"
    }
   },
   "outputs": [
    {
     "data": {
      "text/plain": [
       "{'sex': LabelEncoder(),\n",
       " 'anatom_site_general': LabelEncoder(),\n",
       " 'image_type': LabelEncoder(),\n",
       " 'tbp_tile_type': LabelEncoder(),\n",
       " 'tbp_lv_location': LabelEncoder(),\n",
       " 'tbp_lv_location_simple': LabelEncoder(),\n",
       " 'copyright_license': LabelEncoder()}"
      ]
     },
     "execution_count": 9,
     "metadata": {},
     "output_type": "execute_result"
    }
   ],
   "source": [
    "label_encoders"
   ]
  },
  {
   "cell_type": "code",
   "execution_count": 10,
   "metadata": {
    "execution": {
     "iopub.execute_input": "2024-07-28T17:55:58.926264Z",
     "iopub.status.busy": "2024-07-28T17:55:58.925931Z",
     "iopub.status.idle": "2024-07-28T17:55:59.235992Z",
     "shell.execute_reply": "2024-07-28T17:55:59.234816Z",
     "shell.execute_reply.started": "2024-07-28T17:55:58.926241Z"
    }
   },
   "outputs": [
    {
     "name": "stdout",
     "output_type": "stream",
     "text": [
      "CPU times: user 282 ms, sys: 20.9 ms, total: 303 ms\n",
      "Wall time: 304 ms\n"
     ]
    }
   ],
   "source": [
    "%%time\n",
    "\n",
    "# Split the data into training and test sets\n",
    "X_train, X_test, y_train, y_test = train_test_split(X, y, test_size=0.3, random_state=42, stratify=y)"
   ]
  },
  {
   "cell_type": "code",
   "execution_count": 11,
   "metadata": {
    "execution": {
     "iopub.execute_input": "2024-07-28T17:55:59.237886Z",
     "iopub.status.busy": "2024-07-28T17:55:59.237449Z",
     "iopub.status.idle": "2024-07-28T17:55:59.244708Z",
     "shell.execute_reply": "2024-07-28T17:55:59.243729Z",
     "shell.execute_reply.started": "2024-07-28T17:55:59.237849Z"
    }
   },
   "outputs": [
    {
     "data": {
      "text/plain": [
       "(280741, 41)"
      ]
     },
     "execution_count": 11,
     "metadata": {},
     "output_type": "execute_result"
    }
   ],
   "source": [
    "X_train.shape"
   ]
  },
  {
   "cell_type": "code",
   "execution_count": 12,
   "metadata": {
    "execution": {
     "iopub.execute_input": "2024-07-28T17:55:59.246351Z",
     "iopub.status.busy": "2024-07-28T17:55:59.246040Z",
     "iopub.status.idle": "2024-07-28T17:55:59.256454Z",
     "shell.execute_reply": "2024-07-28T17:55:59.255385Z",
     "shell.execute_reply.started": "2024-07-28T17:55:59.246324Z"
    }
   },
   "outputs": [
    {
     "data": {
      "text/plain": [
       "(120318, 41)"
      ]
     },
     "execution_count": 12,
     "metadata": {},
     "output_type": "execute_result"
    }
   ],
   "source": [
    "X_test.shape"
   ]
  },
  {
   "cell_type": "code",
   "execution_count": 13,
   "metadata": {
    "execution": {
     "iopub.execute_input": "2024-07-28T17:55:59.258086Z",
     "iopub.status.busy": "2024-07-28T17:55:59.257788Z",
     "iopub.status.idle": "2024-07-28T17:56:00.019684Z",
     "shell.execute_reply": "2024-07-28T17:56:00.018686Z",
     "shell.execute_reply.started": "2024-07-28T17:55:59.258061Z"
    }
   },
   "outputs": [
    {
     "name": "stdout",
     "output_type": "stream",
     "text": [
      "CPU times: user 589 ms, sys: 209 ms, total: 798 ms\n",
      "Wall time: 754 ms\n"
     ]
    }
   ],
   "source": [
    "%%time\n",
    "\n",
    "# Apply SMOTE to the training data\n",
    "smote = SMOTE(random_state=42)\n",
    "X_train_smote, y_train_smote = smote.fit_resample(X_train, y_train)"
   ]
  },
  {
   "cell_type": "code",
   "execution_count": 14,
   "metadata": {
    "execution": {
     "iopub.execute_input": "2024-07-28T17:56:00.021514Z",
     "iopub.status.busy": "2024-07-28T17:56:00.021096Z",
     "iopub.status.idle": "2024-07-28T17:56:00.027538Z",
     "shell.execute_reply": "2024-07-28T17:56:00.026567Z",
     "shell.execute_reply.started": "2024-07-28T17:56:00.021463Z"
    }
   },
   "outputs": [
    {
     "data": {
      "text/plain": [
       "(280741, 41)"
      ]
     },
     "execution_count": 14,
     "metadata": {},
     "output_type": "execute_result"
    }
   ],
   "source": [
    "X_train.shape"
   ]
  },
  {
   "cell_type": "code",
   "execution_count": null,
   "metadata": {
    "execution": {
     "iopub.execute_input": "2024-07-28T17:56:00.029312Z",
     "iopub.status.busy": "2024-07-28T17:56:00.028860Z"
    }
   },
   "outputs": [],
   "source": [
    "%%time\n",
    "\n",
    "# Train a logistic regression model with class weight adjustment\n",
    "model = LogisticRegression(class_weight='balanced', max_iter=2000)\n",
    "model.fit(X_train_smote, y_train_smote)\n",
    "\n",
    "X_train = X_train_smote\n",
    "y_train = y_train_smote\n",
    "\n",
    "# #Parameters found tuning process by Optuna\n",
    "# xgb_params = {\"n_estimators\" : 100000,\n",
    "#               \"learning_rate\" : 0.02,\n",
    "#               'alpha': 3.5353386519926673e-07,\n",
    "#               'subsample': 0.297482431044015,            \n",
    "#               'colsample_bytree': 0.6687206013341591,\n",
    "#               'max_depth': 6,\n",
    "#               'min_child_weight': 3,\n",
    "#               \"enable_categorical\" : True,\n",
    "#               'gamma': 0.0006433825429109002}\n",
    "\n",
    "# # Model pipeline with found hyperparameters\n",
    "# model = XGBClassifier(**xgb_params, random_state=random_state)\n",
    "\n",
    "model.fit(X_train, y_train, verbose=True)\n"
   ]
  },
  {
   "cell_type": "code",
   "execution_count": null,
   "metadata": {},
   "outputs": [],
   "source": [
    "%%time\n",
    "\n",
    "# Make predictions and evaluate the model\n",
    "# y_pred = model.predict(X_test)\n",
    "y_pred = model.predict_proba(X_test)[:, 1]\n",
    "print(classification_report(y_test, y_pred))"
   ]
  },
  {
   "cell_type": "code",
   "execution_count": null,
   "metadata": {},
   "outputs": [],
   "source": [
    "%%time\n",
    "\n",
    "from sklearn.metrics import confusion_matrix\n",
    "import matplotlib.pyplot as plt\n",
    "import seaborn as sns\n",
    "\n",
    "# Calculate the confusion matrix\n",
    "conf_matrix = confusion_matrix(y_test, y_pred)\n",
    "\n",
    "# Plotting the confusion matrix\n",
    "plt.figure(figsize=(8, 6))\n",
    "sns.heatmap(conf_matrix, annot=True, fmt='d', cmap='Blues', xticklabels=['Benign', 'Malignant'], yticklabels=['Benign', 'Malignant'])\n",
    "plt.title('Confusion Matrix')\n",
    "plt.xlabel('Predicted')\n",
    "plt.ylabel('Actual')\n",
    "plt.show()"
   ]
  },
  {
   "cell_type": "markdown",
   "metadata": {},
   "source": [
    "# The confusion matrix shows:\n",
    "\n",
    "True Positives (TP): 117 (Malignant cases correctly identified)\n",
    "\n",
    "True Negatives (TN): 120,196 (Benign cases correctly identified)\n",
    "\n",
    "False Positives (FP): 4 (Benign cases incorrectly identified as Malignant)\n",
    "\n",
    "False Negatives (FN): 1 (Malignant case incorrectly identified as Benign)"
   ]
  },
  {
   "cell_type": "code",
   "execution_count": null,
   "metadata": {},
   "outputs": [],
   "source": [
    "%%time\n",
    "\n",
    "from sklearn.metrics import roc_curve, auc\n",
    "import numpy as np\n",
    "\n",
    "# Compute the ROC curve\n",
    "fpr, tpr, thresholds = roc_curve(y_test, model.predict_proba(X_test)[:, 1])\n",
    "\n",
    "# Find the index where TPR is just above 80%\n",
    "threshold_index = np.where(tpr >= 0.8)[0][0]\n",
    "\n",
    "# Calculate pAUC above 80% TPR\n",
    "fpr_restricted = fpr[threshold_index:]\n",
    "tpr_restricted = tpr[threshold_index:]\n",
    "pAUC = auc(fpr_restricted, tpr_restricted)\n",
    "\n",
    "print(f'Partial AUC above 80% TPR: {pAUC}')"
   ]
  },
  {
   "cell_type": "code",
   "execution_count": null,
   "metadata": {},
   "outputs": [],
   "source": [
    "label_encoders"
   ]
  },
  {
   "cell_type": "code",
   "execution_count": null,
   "metadata": {},
   "outputs": [],
   "source": [
    "%%time\n",
    "\n",
    "# predict test set\n",
    "X_test = test_filled.drop(['patient_id', 'isic_id', 'attribution'], axis=1)\n",
    "\n",
    "# Convert categorical variables to numeric\n",
    "# object_cols = X_test.select_dtypes(include=['object']).columns\n",
    "X_test.head()"
   ]
  },
  {
   "cell_type": "code",
   "execution_count": null,
   "metadata": {},
   "outputs": [],
   "source": [
    "for col in object_cols:\n",
    "    le = label_encoders[col]\n",
    "    X_test[col] = le.transform(X_test[col].astype(str))"
   ]
  },
  {
   "cell_type": "code",
   "execution_count": null,
   "metadata": {},
   "outputs": [],
   "source": [
    "X_test.head()"
   ]
  },
  {
   "cell_type": "code",
   "execution_count": null,
   "metadata": {},
   "outputs": [],
   "source": [
    "# y_test_pred_proba = model.predict(X_test)\n",
    "y_test_pred_proba = model.predict_proba(X_test)[:, 1]\n",
    "                           \n",
    "# Placeholder probabilities\n",
    "# y_test_pred_proba = np.random.rand(len(X_test)) \n",
    "\n",
    "# The column 'target' should contain the predicted probabilities\n",
    "sample_submission['target'] = y_test_pred_proba\n",
    "\n",
    "sample_submission.head()"
   ]
  },
  {
   "cell_type": "code",
   "execution_count": null,
   "metadata": {},
   "outputs": [],
   "source": [
    "%%time\n",
    "\n",
    "# Save the new submission file\n",
    "submission_path = 'submission.csv'\n",
    "sample_submission.to_csv(submission_path, index=False)"
   ]
  },
  {
   "cell_type": "code",
   "execution_count": null,
   "metadata": {},
   "outputs": [],
   "source": []
  }
 ],
 "metadata": {
  "kaggle": {
   "accelerator": "nvidiaTeslaT4",
   "dataSources": [
    {
     "databundleVersionId": 9094797,
     "sourceId": 63056,
     "sourceType": "competition"
    }
   ],
   "dockerImageVersionId": 30747,
   "isGpuEnabled": true,
   "isInternetEnabled": false,
   "language": "python",
   "sourceType": "notebook"
  },
  "kernelspec": {
   "display_name": "Python 3 (ipykernel)",
   "language": "python",
   "name": "python3"
  },
  "language_info": {
   "codemirror_mode": {
    "name": "ipython",
    "version": 3
   },
   "file_extension": ".py",
   "mimetype": "text/x-python",
   "name": "python",
   "nbconvert_exporter": "python",
   "pygments_lexer": "ipython3",
   "version": "3.12.4"
  }
 },
 "nbformat": 4,
 "nbformat_minor": 4
}
