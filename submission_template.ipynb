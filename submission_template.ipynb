{
 "cells": [
  {
   "cell_type": "markdown",
   "metadata": {},
   "source": [
    "# IMPORTANT!!!\n",
    "* run the code before submission\n",
    "* check the output section in the right bar for \"submission.csv\" "
   ],
   "id": "6dbcf217ed38fe0d"
  },
  {
   "cell_type": "code",
   "execution_count": null,
   "metadata": {},
   "outputs": [],
   "source": [
    "import pandas as pd\n",
    "import numpy as np\n",
    "import matplotlib.pyplot as plt\n",
    "from sklearn.metrics import auc, roc_curve\n",
    "from sklearn.model_selection import train_test_split"
   ],
   "id": "5ba31015115afe2b"
  },
  {
   "cell_type": "markdown",
   "id": "9a030868",
   "metadata": {},
   "source": []
  },
  {
   "cell_type": "code",
   "execution_count": null,
   "metadata": {},
   "outputs": [],
   "source": [
    "pd.set_option('display.max_rows', 500)\n",
    "pd.set_option('display.max_columns', 500)\n",
    "train_df = pd.read_csv('/kaggle/input/isic-2024-challenge/train-metadata.csv')\n",
    "test_df = pd.read_csv('/kaggle/input/isic-2024-challenge/test-metadata.csv',\n",
    "                               low_memory=False)"
   ],
   "id": "f4e4d655ea5bc7b9"
  },
  {
   "cell_type": "markdown",
   "metadata": {},
   "source": [
    "# preprocess"
   ],
   "id": "38e08b9bb940a4e4"
  },
  {
   "cell_type": "code",
   "execution_count": null,
   "metadata": {},
   "outputs": [],
   "source": [
    "# X = train_df.drop('target', axis=1)\n",
    "# y = train_df['target']\n",
    "# X_train, X_test, y_train, y_test = train_test_split(X, y, test_size=0.2, random_state=40, stratify=y)"
   ],
   "id": "db20e27f0596bb86"
  },
  {
   "metadata": {},
   "cell_type": "code",
   "outputs": [],
   "execution_count": null,
   "source": "# your code here",
   "id": "660ed5e49a12746"
  },
  {
   "cell_type": "markdown",
   "metadata": {},
   "source": [
    "# the model"
   ],
   "id": "9f233e0928e8712a"
  },
  {
   "metadata": {
    "ExecuteTime": {
     "end_time": "2024-08-08T12:03:34.394265Z",
     "start_time": "2024-08-08T12:03:34.391239Z"
    }
   },
   "cell_type": "code",
   "source": [
    "def roc_auc_above_80_score(y_test, y_pred_proba):\n",
    "    try:\n",
    "        fpr, tpr, thresholds = roc_curve(y_test, y_pred_proba[:, 1])\n",
    "    except IndexError:\n",
    "        fpr, tpr, thresholds = roc_curve(y_test, y_pred_proba)\n",
    "    tpr_80 = [0.80 if i >= 0.80 else i for i in tpr]\n",
    "    return auc(fpr, tpr) - auc(fpr, tpr_80)"
   ],
   "id": "e7af14a60b8aa86a",
   "outputs": [],
   "execution_count": 1
  },
  {
   "cell_type": "code",
   "execution_count": null,
   "metadata": {},
   "outputs": [],
   "source": "# model code here",
   "id": "b1b57ed214f3cf0d"
  },
  {
   "cell_type": "markdown",
   "metadata": {},
   "source": [
    "# submission:\n",
    "* dont forget to apply the scalar of the normalization on the test_df\n"
   ],
   "id": "dac270224def0fdb"
  },
  {
   "cell_type": "markdown",
   "id": "27413114",
   "metadata": {},
   "source": "### preprocces"
  },
  {
   "cell_type": "code",
   "execution_count": null,
   "id": "35f86fa5",
   "metadata": {},
   "outputs": [],
   "source": "subm_df = test_df[['isic_id']] # this is for the submission.csv. in the end it will add a target column and save it."
  },
  {
   "metadata": {},
   "cell_type": "code",
   "outputs": [],
   "execution_count": null,
   "source": "# your code here",
   "id": "39dca0d356e86730"
  },
  {
   "cell_type": "markdown",
   "id": "0fcd5750",
   "metadata": {},
   "source": [
    "### apply\n",
    "save the probabilities as test_pred"
   ]
  },
  {
   "cell_type": "code",
   "execution_count": null,
   "metadata": {},
   "outputs": [],
   "source": [
    "# change this\n",
    "test_pred = 'model.predict_proba(test_df)[:, 1]'"
   ],
   "id": "47a9b324eef97fde"
  },
  {
   "cell_type": "code",
   "execution_count": null,
   "metadata": {},
   "outputs": [],
   "source": "subm_df['target'] = test_pred",
   "id": "2462c33a6d92722a"
  },
  {
   "metadata": {},
   "cell_type": "markdown",
   "source": "# final submission",
   "id": "8ca670bef91f679e"
  },
  {
   "cell_type": "code",
   "execution_count": null,
   "metadata": {},
   "outputs": [],
   "source": "subm_df.to_csv(\"submission.csv\", index=False)",
   "id": "3e1e07aa0cb0089d"
  }
 ],
 "metadata": {
  "kaggle": {
   "accelerator": "none",
   "dataSources": [
    {
     "databundleVersionId": 9094797,
     "sourceId": 63056,
     "sourceType": "competition"
    }
   ],
   "dockerImageVersionId": 30746,
   "isGpuEnabled": false,
   "isInternetEnabled": false,
   "language": "python",
   "sourceType": "notebook"
  },
  "kernelspec": {
   "display_name": "Python 3",
   "language": "python",
   "name": "python3"
  },
  "language_info": {
   "codemirror_mode": {
    "name": "ipython",
    "version": 2
   },
   "file_extension": ".py",
   "mimetype": "text/x-python",
   "name": "python",
   "nbconvert_exporter": "python",
   "pygments_lexer": "ipython2",
   "version": "2.7.6"
  }
 },
 "nbformat": 4,
 "nbformat_minor": 5
}
